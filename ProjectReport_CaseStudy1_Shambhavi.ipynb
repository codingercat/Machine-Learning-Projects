{
  "nbformat": 4,
  "nbformat_minor": 0,
  "metadata": {
    "colab": {
      "provenance": [],
      "authorship_tag": "ABX9TyOMy8lpCPo7MNfJQZlEZvWs",
      "include_colab_link": true
    },
    "kernelspec": {
      "name": "python3",
      "display_name": "Python 3"
    },
    "language_info": {
      "name": "python"
    }
  },
  "cells": [
    {
      "cell_type": "markdown",
      "metadata": {
        "id": "view-in-github",
        "colab_type": "text"
      },
      "source": [
        "<a href=\"https://colab.research.google.com/github/codingercat/Machine-Learning-Projects/blob/main/ProjectReport_CaseStudy1_Shambhavi.ipynb\" target=\"_parent\"><img src=\"https://colab.research.google.com/assets/colab-badge.svg\" alt=\"Open In Colab\"/></a>"
      ]
    },
    {
      "cell_type": "markdown",
      "source": [
        "##Project 1 Submission\n",
        "\n",
        "**Name:**\n",
        "\n",
        "Shambhavi Thakur\n",
        "\n",
        "**Changes:**\n",
        "\n",
        "Tried to improve the accuracy of the model by increasing number of epochs and changing the optimizer(from adam to RMSprop), but same accuracy was generated.\n",
        "\n",
        "**Conclusion:**\n",
        "\n",
        "The model has reached its limitation."
      ],
      "metadata": {
        "id": "mznp-tWsXPPu"
      }
    },
    {
      "cell_type": "code",
      "execution_count": null,
      "metadata": {
        "id": "lSPzMrP0HUY2"
      },
      "outputs": [],
      "source": [
        "import pandas as pd\n",
        "import numpy as np\n",
        "import matplotlib.pyplot as plt\n",
        "%matplotlib inline"
      ]
    },
    {
      "cell_type": "code",
      "source": [
        "from google.colab import files\n",
        "df = files.upload()"
      ],
      "metadata": {
        "colab": {
          "base_uri": "https://localhost:8080/",
          "height": 73
        },
        "id": "p4BXa6deHa-T",
        "outputId": "a8b01f9e-8021-41ed-96f0-4afb5f918255"
      },
      "execution_count": null,
      "outputs": [
        {
          "output_type": "display_data",
          "data": {
            "text/plain": [
              "<IPython.core.display.HTML object>"
            ],
            "text/html": [
              "\n",
              "     <input type=\"file\" id=\"files-353795eb-34f9-4cf1-a221-135404360c23\" name=\"files[]\" multiple disabled\n",
              "        style=\"border:none\" />\n",
              "     <output id=\"result-353795eb-34f9-4cf1-a221-135404360c23\">\n",
              "      Upload widget is only available when the cell has been executed in the\n",
              "      current browser session. Please rerun this cell to enable.\n",
              "      </output>\n",
              "      <script>// Copyright 2017 Google LLC\n",
              "//\n",
              "// Licensed under the Apache License, Version 2.0 (the \"License\");\n",
              "// you may not use this file except in compliance with the License.\n",
              "// You may obtain a copy of the License at\n",
              "//\n",
              "//      http://www.apache.org/licenses/LICENSE-2.0\n",
              "//\n",
              "// Unless required by applicable law or agreed to in writing, software\n",
              "// distributed under the License is distributed on an \"AS IS\" BASIS,\n",
              "// WITHOUT WARRANTIES OR CONDITIONS OF ANY KIND, either express or implied.\n",
              "// See the License for the specific language governing permissions and\n",
              "// limitations under the License.\n",
              "\n",
              "/**\n",
              " * @fileoverview Helpers for google.colab Python module.\n",
              " */\n",
              "(function(scope) {\n",
              "function span(text, styleAttributes = {}) {\n",
              "  const element = document.createElement('span');\n",
              "  element.textContent = text;\n",
              "  for (const key of Object.keys(styleAttributes)) {\n",
              "    element.style[key] = styleAttributes[key];\n",
              "  }\n",
              "  return element;\n",
              "}\n",
              "\n",
              "// Max number of bytes which will be uploaded at a time.\n",
              "const MAX_PAYLOAD_SIZE = 100 * 1024;\n",
              "\n",
              "function _uploadFiles(inputId, outputId) {\n",
              "  const steps = uploadFilesStep(inputId, outputId);\n",
              "  const outputElement = document.getElementById(outputId);\n",
              "  // Cache steps on the outputElement to make it available for the next call\n",
              "  // to uploadFilesContinue from Python.\n",
              "  outputElement.steps = steps;\n",
              "\n",
              "  return _uploadFilesContinue(outputId);\n",
              "}\n",
              "\n",
              "// This is roughly an async generator (not supported in the browser yet),\n",
              "// where there are multiple asynchronous steps and the Python side is going\n",
              "// to poll for completion of each step.\n",
              "// This uses a Promise to block the python side on completion of each step,\n",
              "// then passes the result of the previous step as the input to the next step.\n",
              "function _uploadFilesContinue(outputId) {\n",
              "  const outputElement = document.getElementById(outputId);\n",
              "  const steps = outputElement.steps;\n",
              "\n",
              "  const next = steps.next(outputElement.lastPromiseValue);\n",
              "  return Promise.resolve(next.value.promise).then((value) => {\n",
              "    // Cache the last promise value to make it available to the next\n",
              "    // step of the generator.\n",
              "    outputElement.lastPromiseValue = value;\n",
              "    return next.value.response;\n",
              "  });\n",
              "}\n",
              "\n",
              "/**\n",
              " * Generator function which is called between each async step of the upload\n",
              " * process.\n",
              " * @param {string} inputId Element ID of the input file picker element.\n",
              " * @param {string} outputId Element ID of the output display.\n",
              " * @return {!Iterable<!Object>} Iterable of next steps.\n",
              " */\n",
              "function* uploadFilesStep(inputId, outputId) {\n",
              "  const inputElement = document.getElementById(inputId);\n",
              "  inputElement.disabled = false;\n",
              "\n",
              "  const outputElement = document.getElementById(outputId);\n",
              "  outputElement.innerHTML = '';\n",
              "\n",
              "  const pickedPromise = new Promise((resolve) => {\n",
              "    inputElement.addEventListener('change', (e) => {\n",
              "      resolve(e.target.files);\n",
              "    });\n",
              "  });\n",
              "\n",
              "  const cancel = document.createElement('button');\n",
              "  inputElement.parentElement.appendChild(cancel);\n",
              "  cancel.textContent = 'Cancel upload';\n",
              "  const cancelPromise = new Promise((resolve) => {\n",
              "    cancel.onclick = () => {\n",
              "      resolve(null);\n",
              "    };\n",
              "  });\n",
              "\n",
              "  // Wait for the user to pick the files.\n",
              "  const files = yield {\n",
              "    promise: Promise.race([pickedPromise, cancelPromise]),\n",
              "    response: {\n",
              "      action: 'starting',\n",
              "    }\n",
              "  };\n",
              "\n",
              "  cancel.remove();\n",
              "\n",
              "  // Disable the input element since further picks are not allowed.\n",
              "  inputElement.disabled = true;\n",
              "\n",
              "  if (!files) {\n",
              "    return {\n",
              "      response: {\n",
              "        action: 'complete',\n",
              "      }\n",
              "    };\n",
              "  }\n",
              "\n",
              "  for (const file of files) {\n",
              "    const li = document.createElement('li');\n",
              "    li.append(span(file.name, {fontWeight: 'bold'}));\n",
              "    li.append(span(\n",
              "        `(${file.type || 'n/a'}) - ${file.size} bytes, ` +\n",
              "        `last modified: ${\n",
              "            file.lastModifiedDate ? file.lastModifiedDate.toLocaleDateString() :\n",
              "                                    'n/a'} - `));\n",
              "    const percent = span('0% done');\n",
              "    li.appendChild(percent);\n",
              "\n",
              "    outputElement.appendChild(li);\n",
              "\n",
              "    const fileDataPromise = new Promise((resolve) => {\n",
              "      const reader = new FileReader();\n",
              "      reader.onload = (e) => {\n",
              "        resolve(e.target.result);\n",
              "      };\n",
              "      reader.readAsArrayBuffer(file);\n",
              "    });\n",
              "    // Wait for the data to be ready.\n",
              "    let fileData = yield {\n",
              "      promise: fileDataPromise,\n",
              "      response: {\n",
              "        action: 'continue',\n",
              "      }\n",
              "    };\n",
              "\n",
              "    // Use a chunked sending to avoid message size limits. See b/62115660.\n",
              "    let position = 0;\n",
              "    do {\n",
              "      const length = Math.min(fileData.byteLength - position, MAX_PAYLOAD_SIZE);\n",
              "      const chunk = new Uint8Array(fileData, position, length);\n",
              "      position += length;\n",
              "\n",
              "      const base64 = btoa(String.fromCharCode.apply(null, chunk));\n",
              "      yield {\n",
              "        response: {\n",
              "          action: 'append',\n",
              "          file: file.name,\n",
              "          data: base64,\n",
              "        },\n",
              "      };\n",
              "\n",
              "      let percentDone = fileData.byteLength === 0 ?\n",
              "          100 :\n",
              "          Math.round((position / fileData.byteLength) * 100);\n",
              "      percent.textContent = `${percentDone}% done`;\n",
              "\n",
              "    } while (position < fileData.byteLength);\n",
              "  }\n",
              "\n",
              "  // All done.\n",
              "  yield {\n",
              "    response: {\n",
              "      action: 'complete',\n",
              "    }\n",
              "  };\n",
              "}\n",
              "\n",
              "scope.google = scope.google || {};\n",
              "scope.google.colab = scope.google.colab || {};\n",
              "scope.google.colab._files = {\n",
              "  _uploadFiles,\n",
              "  _uploadFilesContinue,\n",
              "};\n",
              "})(self);\n",
              "</script> "
            ]
          },
          "metadata": {}
        },
        {
          "output_type": "stream",
          "name": "stdout",
          "text": [
            "Saving sparcs1.csv to sparcs1 (2).csv\n"
          ]
        }
      ]
    },
    {
      "cell_type": "code",
      "source": [
        "sparcs = pd.read_csv('sparcs1.csv')\n",
        "print(sparcs.columns)"
      ],
      "metadata": {
        "colab": {
          "base_uri": "https://localhost:8080/"
        },
        "id": "AEPyVZMZHc7C",
        "outputId": "fac1b9cf-0b56-41f6-e0d9-e339b8f4c269"
      },
      "execution_count": null,
      "outputs": [
        {
          "output_type": "stream",
          "name": "stdout",
          "text": [
            "Index(['Health Service Area', 'Hospital County',\n",
            "       'Operating Certificate Number', 'Facility ID', 'Age Group',\n",
            "       'Length of Stay', 'Type of Admission', 'Patient Disposition',\n",
            "       'CCS Procedure Description', 'APR Severity of Illness Code',\n",
            "       'APR Risk of Mortality', 'Source of Payment 1', 'Total Costs'],\n",
            "      dtype='object')\n"
          ]
        }
      ]
    },
    {
      "cell_type": "code",
      "source": [
        "sparcs.shape"
      ],
      "metadata": {
        "id": "5XYi0wsjH8Tq",
        "colab": {
          "base_uri": "https://localhost:8080/"
        },
        "outputId": "18d4cbca-e6d5-468c-f091-bb2f40043493"
      },
      "execution_count": null,
      "outputs": [
        {
          "output_type": "execute_result",
          "data": {
            "text/plain": [
              "(19999, 13)"
            ]
          },
          "metadata": {},
          "execution_count": 127
        }
      ]
    },
    {
      "cell_type": "code",
      "source": [
        "sparcs.head()"
      ],
      "metadata": {
        "id": "1ca_u1YuH9dC",
        "colab": {
          "base_uri": "https://localhost:8080/",
          "height": 371
        },
        "outputId": "c9c5c582-1e12-45a0-9b0a-c71ca7eb8cba"
      },
      "execution_count": null,
      "outputs": [
        {
          "output_type": "execute_result",
          "data": {
            "text/plain": [
              "  Health Service Area Hospital County  Operating Certificate Number  \\\n",
              "0       New York City       Manhattan                     7002054.0   \n",
              "1       New York City       Manhattan                     7002054.0   \n",
              "2       New York City       Manhattan                     7002054.0   \n",
              "3       Southern Tier        Tompkins                     5401001.0   \n",
              "4       New York City           Bronx                     7000014.0   \n",
              "\n",
              "   Facility ID Age Group Length of Stay Type of Admission  \\\n",
              "0       1458.0   0 to 17              2           Newborn   \n",
              "1       1458.0   0 to 17              4         Emergency   \n",
              "2       1464.0   0 to 17              2           Newborn   \n",
              "3        977.0   0 to 17              2           Newborn   \n",
              "4       1176.0   0 to 17              3         Emergency   \n",
              "\n",
              "                    Patient Disposition CCS Procedure Description  \\\n",
              "0                     Home or Self Care              CIRCUMCISION   \n",
              "1  Cancer Center or Children's Hospital    RESP INTUB/MECH VENTIL   \n",
              "2                     Home or Self Care    OPHTHALM-/OT-OLOGIC DX   \n",
              "3                     Home or Self Care   PROPHYLACTIC VAC/INOCUL   \n",
              "4                     Home or Self Care     DIAGNOSTIC SPINAL TAP   \n",
              "\n",
              "   APR Severity of Illness Code APR Risk of Mortality Source of Payment 1  \\\n",
              "0                             1                 Minor   Insurance Company   \n",
              "1                             2                 Major   Insurance Company   \n",
              "2                             1                 Minor          Blue Cross   \n",
              "3                             2                 Minor          Blue Cross   \n",
              "4                             2                 Minor            Self-Pay   \n",
              "\n",
              "  Total Costs  \n",
              "0    1,685.18  \n",
              "1   17,394.94  \n",
              "2    1,818.44  \n",
              "3    1,024.48  \n",
              "4    3,238.19  "
            ],
            "text/html": [
              "\n",
              "\n",
              "  <div id=\"df-15607b3b-36da-4c90-98e4-a3960641c935\">\n",
              "    <div class=\"colab-df-container\">\n",
              "      <div>\n",
              "<style scoped>\n",
              "    .dataframe tbody tr th:only-of-type {\n",
              "        vertical-align: middle;\n",
              "    }\n",
              "\n",
              "    .dataframe tbody tr th {\n",
              "        vertical-align: top;\n",
              "    }\n",
              "\n",
              "    .dataframe thead th {\n",
              "        text-align: right;\n",
              "    }\n",
              "</style>\n",
              "<table border=\"1\" class=\"dataframe\">\n",
              "  <thead>\n",
              "    <tr style=\"text-align: right;\">\n",
              "      <th></th>\n",
              "      <th>Health Service Area</th>\n",
              "      <th>Hospital County</th>\n",
              "      <th>Operating Certificate Number</th>\n",
              "      <th>Facility ID</th>\n",
              "      <th>Age Group</th>\n",
              "      <th>Length of Stay</th>\n",
              "      <th>Type of Admission</th>\n",
              "      <th>Patient Disposition</th>\n",
              "      <th>CCS Procedure Description</th>\n",
              "      <th>APR Severity of Illness Code</th>\n",
              "      <th>APR Risk of Mortality</th>\n",
              "      <th>Source of Payment 1</th>\n",
              "      <th>Total Costs</th>\n",
              "    </tr>\n",
              "  </thead>\n",
              "  <tbody>\n",
              "    <tr>\n",
              "      <th>0</th>\n",
              "      <td>New York City</td>\n",
              "      <td>Manhattan</td>\n",
              "      <td>7002054.0</td>\n",
              "      <td>1458.0</td>\n",
              "      <td>0 to 17</td>\n",
              "      <td>2</td>\n",
              "      <td>Newborn</td>\n",
              "      <td>Home or Self Care</td>\n",
              "      <td>CIRCUMCISION</td>\n",
              "      <td>1</td>\n",
              "      <td>Minor</td>\n",
              "      <td>Insurance Company</td>\n",
              "      <td>1,685.18</td>\n",
              "    </tr>\n",
              "    <tr>\n",
              "      <th>1</th>\n",
              "      <td>New York City</td>\n",
              "      <td>Manhattan</td>\n",
              "      <td>7002054.0</td>\n",
              "      <td>1458.0</td>\n",
              "      <td>0 to 17</td>\n",
              "      <td>4</td>\n",
              "      <td>Emergency</td>\n",
              "      <td>Cancer Center or Children's Hospital</td>\n",
              "      <td>RESP INTUB/MECH VENTIL</td>\n",
              "      <td>2</td>\n",
              "      <td>Major</td>\n",
              "      <td>Insurance Company</td>\n",
              "      <td>17,394.94</td>\n",
              "    </tr>\n",
              "    <tr>\n",
              "      <th>2</th>\n",
              "      <td>New York City</td>\n",
              "      <td>Manhattan</td>\n",
              "      <td>7002054.0</td>\n",
              "      <td>1464.0</td>\n",
              "      <td>0 to 17</td>\n",
              "      <td>2</td>\n",
              "      <td>Newborn</td>\n",
              "      <td>Home or Self Care</td>\n",
              "      <td>OPHTHALM-/OT-OLOGIC DX</td>\n",
              "      <td>1</td>\n",
              "      <td>Minor</td>\n",
              "      <td>Blue Cross</td>\n",
              "      <td>1,818.44</td>\n",
              "    </tr>\n",
              "    <tr>\n",
              "      <th>3</th>\n",
              "      <td>Southern Tier</td>\n",
              "      <td>Tompkins</td>\n",
              "      <td>5401001.0</td>\n",
              "      <td>977.0</td>\n",
              "      <td>0 to 17</td>\n",
              "      <td>2</td>\n",
              "      <td>Newborn</td>\n",
              "      <td>Home or Self Care</td>\n",
              "      <td>PROPHYLACTIC VAC/INOCUL</td>\n",
              "      <td>2</td>\n",
              "      <td>Minor</td>\n",
              "      <td>Blue Cross</td>\n",
              "      <td>1,024.48</td>\n",
              "    </tr>\n",
              "    <tr>\n",
              "      <th>4</th>\n",
              "      <td>New York City</td>\n",
              "      <td>Bronx</td>\n",
              "      <td>7000014.0</td>\n",
              "      <td>1176.0</td>\n",
              "      <td>0 to 17</td>\n",
              "      <td>3</td>\n",
              "      <td>Emergency</td>\n",
              "      <td>Home or Self Care</td>\n",
              "      <td>DIAGNOSTIC SPINAL TAP</td>\n",
              "      <td>2</td>\n",
              "      <td>Minor</td>\n",
              "      <td>Self-Pay</td>\n",
              "      <td>3,238.19</td>\n",
              "    </tr>\n",
              "  </tbody>\n",
              "</table>\n",
              "</div>\n",
              "      <button class=\"colab-df-convert\" onclick=\"convertToInteractive('df-15607b3b-36da-4c90-98e4-a3960641c935')\"\n",
              "              title=\"Convert this dataframe to an interactive table.\"\n",
              "              style=\"display:none;\">\n",
              "\n",
              "  <svg xmlns=\"http://www.w3.org/2000/svg\" height=\"24px\"viewBox=\"0 0 24 24\"\n",
              "       width=\"24px\">\n",
              "    <path d=\"M0 0h24v24H0V0z\" fill=\"none\"/>\n",
              "    <path d=\"M18.56 5.44l.94 2.06.94-2.06 2.06-.94-2.06-.94-.94-2.06-.94 2.06-2.06.94zm-11 1L8.5 8.5l.94-2.06 2.06-.94-2.06-.94L8.5 2.5l-.94 2.06-2.06.94zm10 10l.94 2.06.94-2.06 2.06-.94-2.06-.94-.94-2.06-.94 2.06-2.06.94z\"/><path d=\"M17.41 7.96l-1.37-1.37c-.4-.4-.92-.59-1.43-.59-.52 0-1.04.2-1.43.59L10.3 9.45l-7.72 7.72c-.78.78-.78 2.05 0 2.83L4 21.41c.39.39.9.59 1.41.59.51 0 1.02-.2 1.41-.59l7.78-7.78 2.81-2.81c.8-.78.8-2.07 0-2.86zM5.41 20L4 18.59l7.72-7.72 1.47 1.35L5.41 20z\"/>\n",
              "  </svg>\n",
              "      </button>\n",
              "\n",
              "\n",
              "\n",
              "    <div id=\"df-dbd3af48-6e79-4ae6-a9c7-43679b20d243\">\n",
              "      <button class=\"colab-df-quickchart\" onclick=\"quickchart('df-dbd3af48-6e79-4ae6-a9c7-43679b20d243')\"\n",
              "              title=\"Suggest charts.\"\n",
              "              style=\"display:none;\">\n",
              "\n",
              "<svg xmlns=\"http://www.w3.org/2000/svg\" height=\"24px\"viewBox=\"0 0 24 24\"\n",
              "     width=\"24px\">\n",
              "    <g>\n",
              "        <path d=\"M19 3H5c-1.1 0-2 .9-2 2v14c0 1.1.9 2 2 2h14c1.1 0 2-.9 2-2V5c0-1.1-.9-2-2-2zM9 17H7v-7h2v7zm4 0h-2V7h2v10zm4 0h-2v-4h2v4z\"/>\n",
              "    </g>\n",
              "</svg>\n",
              "      </button>\n",
              "    </div>\n",
              "\n",
              "<style>\n",
              "  .colab-df-quickchart {\n",
              "    background-color: #E8F0FE;\n",
              "    border: none;\n",
              "    border-radius: 50%;\n",
              "    cursor: pointer;\n",
              "    display: none;\n",
              "    fill: #1967D2;\n",
              "    height: 32px;\n",
              "    padding: 0 0 0 0;\n",
              "    width: 32px;\n",
              "  }\n",
              "\n",
              "  .colab-df-quickchart:hover {\n",
              "    background-color: #E2EBFA;\n",
              "    box-shadow: 0px 1px 2px rgba(60, 64, 67, 0.3), 0px 1px 3px 1px rgba(60, 64, 67, 0.15);\n",
              "    fill: #174EA6;\n",
              "  }\n",
              "\n",
              "  [theme=dark] .colab-df-quickchart {\n",
              "    background-color: #3B4455;\n",
              "    fill: #D2E3FC;\n",
              "  }\n",
              "\n",
              "  [theme=dark] .colab-df-quickchart:hover {\n",
              "    background-color: #434B5C;\n",
              "    box-shadow: 0px 1px 3px 1px rgba(0, 0, 0, 0.15);\n",
              "    filter: drop-shadow(0px 1px 2px rgba(0, 0, 0, 0.3));\n",
              "    fill: #FFFFFF;\n",
              "  }\n",
              "</style>\n",
              "\n",
              "    <script>\n",
              "      async function quickchart(key) {\n",
              "        const containerElement = document.querySelector('#' + key);\n",
              "        const charts = await google.colab.kernel.invokeFunction(\n",
              "            'suggestCharts', [key], {});\n",
              "      }\n",
              "    </script>\n",
              "\n",
              "      <script>\n",
              "\n",
              "function displayQuickchartButton(domScope) {\n",
              "  let quickchartButtonEl =\n",
              "    domScope.querySelector('#df-dbd3af48-6e79-4ae6-a9c7-43679b20d243 button.colab-df-quickchart');\n",
              "  quickchartButtonEl.style.display =\n",
              "    google.colab.kernel.accessAllowed ? 'block' : 'none';\n",
              "}\n",
              "\n",
              "        displayQuickchartButton(document);\n",
              "      </script>\n",
              "      <style>\n",
              "    .colab-df-container {\n",
              "      display:flex;\n",
              "      flex-wrap:wrap;\n",
              "      gap: 12px;\n",
              "    }\n",
              "\n",
              "    .colab-df-convert {\n",
              "      background-color: #E8F0FE;\n",
              "      border: none;\n",
              "      border-radius: 50%;\n",
              "      cursor: pointer;\n",
              "      display: none;\n",
              "      fill: #1967D2;\n",
              "      height: 32px;\n",
              "      padding: 0 0 0 0;\n",
              "      width: 32px;\n",
              "    }\n",
              "\n",
              "    .colab-df-convert:hover {\n",
              "      background-color: #E2EBFA;\n",
              "      box-shadow: 0px 1px 2px rgba(60, 64, 67, 0.3), 0px 1px 3px 1px rgba(60, 64, 67, 0.15);\n",
              "      fill: #174EA6;\n",
              "    }\n",
              "\n",
              "    [theme=dark] .colab-df-convert {\n",
              "      background-color: #3B4455;\n",
              "      fill: #D2E3FC;\n",
              "    }\n",
              "\n",
              "    [theme=dark] .colab-df-convert:hover {\n",
              "      background-color: #434B5C;\n",
              "      box-shadow: 0px 1px 3px 1px rgba(0, 0, 0, 0.15);\n",
              "      filter: drop-shadow(0px 1px 2px rgba(0, 0, 0, 0.3));\n",
              "      fill: #FFFFFF;\n",
              "    }\n",
              "  </style>\n",
              "\n",
              "      <script>\n",
              "        const buttonEl =\n",
              "          document.querySelector('#df-15607b3b-36da-4c90-98e4-a3960641c935 button.colab-df-convert');\n",
              "        buttonEl.style.display =\n",
              "          google.colab.kernel.accessAllowed ? 'block' : 'none';\n",
              "\n",
              "        async function convertToInteractive(key) {\n",
              "          const element = document.querySelector('#df-15607b3b-36da-4c90-98e4-a3960641c935');\n",
              "          const dataTable =\n",
              "            await google.colab.kernel.invokeFunction('convertToInteractive',\n",
              "                                                     [key], {});\n",
              "          if (!dataTable) return;\n",
              "\n",
              "          const docLinkHtml = 'Like what you see? Visit the ' +\n",
              "            '<a target=\"_blank\" href=https://colab.research.google.com/notebooks/data_table.ipynb>data table notebook</a>'\n",
              "            + ' to learn more about interactive tables.';\n",
              "          element.innerHTML = '';\n",
              "          dataTable['output_type'] = 'display_data';\n",
              "          await google.colab.output.renderOutput(dataTable, element);\n",
              "          const docLink = document.createElement('div');\n",
              "          docLink.innerHTML = docLinkHtml;\n",
              "          element.appendChild(docLink);\n",
              "        }\n",
              "      </script>\n",
              "    </div>\n",
              "  </div>\n"
            ]
          },
          "metadata": {},
          "execution_count": 128
        }
      ]
    },
    {
      "cell_type": "code",
      "source": [
        "sparcs.describe()"
      ],
      "metadata": {
        "id": "PxsfmQKCH_Qy",
        "colab": {
          "base_uri": "https://localhost:8080/",
          "height": 300
        },
        "outputId": "5a7ec054-d57b-458a-8e4f-f0b9c9ea226f"
      },
      "execution_count": null,
      "outputs": [
        {
          "output_type": "execute_result",
          "data": {
            "text/plain": [
              "       Operating Certificate Number   Facility ID  \\\n",
              "count                  1.999400e+04  19994.000000   \n",
              "mean                   6.968105e+06   1574.881414   \n",
              "std                    3.611114e+05    570.057810   \n",
              "min                    1.010000e+05      1.000000   \n",
              "25%                    7.002017e+06   1450.000000   \n",
              "50%                    7.002032e+06   1458.000000   \n",
              "75%                    7.002054e+06   1464.000000   \n",
              "max                    7.004010e+06   3975.000000   \n",
              "\n",
              "       APR Severity of Illness Code  \n",
              "count                  19999.000000  \n",
              "mean                       1.382419  \n",
              "std                        0.669259  \n",
              "min                        0.000000  \n",
              "25%                        1.000000  \n",
              "50%                        1.000000  \n",
              "75%                        2.000000  \n",
              "max                        4.000000  "
            ],
            "text/html": [
              "\n",
              "\n",
              "  <div id=\"df-2f2fdf57-515d-4453-9411-e7c07e4a238e\">\n",
              "    <div class=\"colab-df-container\">\n",
              "      <div>\n",
              "<style scoped>\n",
              "    .dataframe tbody tr th:only-of-type {\n",
              "        vertical-align: middle;\n",
              "    }\n",
              "\n",
              "    .dataframe tbody tr th {\n",
              "        vertical-align: top;\n",
              "    }\n",
              "\n",
              "    .dataframe thead th {\n",
              "        text-align: right;\n",
              "    }\n",
              "</style>\n",
              "<table border=\"1\" class=\"dataframe\">\n",
              "  <thead>\n",
              "    <tr style=\"text-align: right;\">\n",
              "      <th></th>\n",
              "      <th>Operating Certificate Number</th>\n",
              "      <th>Facility ID</th>\n",
              "      <th>APR Severity of Illness Code</th>\n",
              "    </tr>\n",
              "  </thead>\n",
              "  <tbody>\n",
              "    <tr>\n",
              "      <th>count</th>\n",
              "      <td>1.999400e+04</td>\n",
              "      <td>19994.000000</td>\n",
              "      <td>19999.000000</td>\n",
              "    </tr>\n",
              "    <tr>\n",
              "      <th>mean</th>\n",
              "      <td>6.968105e+06</td>\n",
              "      <td>1574.881414</td>\n",
              "      <td>1.382419</td>\n",
              "    </tr>\n",
              "    <tr>\n",
              "      <th>std</th>\n",
              "      <td>3.611114e+05</td>\n",
              "      <td>570.057810</td>\n",
              "      <td>0.669259</td>\n",
              "    </tr>\n",
              "    <tr>\n",
              "      <th>min</th>\n",
              "      <td>1.010000e+05</td>\n",
              "      <td>1.000000</td>\n",
              "      <td>0.000000</td>\n",
              "    </tr>\n",
              "    <tr>\n",
              "      <th>25%</th>\n",
              "      <td>7.002017e+06</td>\n",
              "      <td>1450.000000</td>\n",
              "      <td>1.000000</td>\n",
              "    </tr>\n",
              "    <tr>\n",
              "      <th>50%</th>\n",
              "      <td>7.002032e+06</td>\n",
              "      <td>1458.000000</td>\n",
              "      <td>1.000000</td>\n",
              "    </tr>\n",
              "    <tr>\n",
              "      <th>75%</th>\n",
              "      <td>7.002054e+06</td>\n",
              "      <td>1464.000000</td>\n",
              "      <td>2.000000</td>\n",
              "    </tr>\n",
              "    <tr>\n",
              "      <th>max</th>\n",
              "      <td>7.004010e+06</td>\n",
              "      <td>3975.000000</td>\n",
              "      <td>4.000000</td>\n",
              "    </tr>\n",
              "  </tbody>\n",
              "</table>\n",
              "</div>\n",
              "      <button class=\"colab-df-convert\" onclick=\"convertToInteractive('df-2f2fdf57-515d-4453-9411-e7c07e4a238e')\"\n",
              "              title=\"Convert this dataframe to an interactive table.\"\n",
              "              style=\"display:none;\">\n",
              "\n",
              "  <svg xmlns=\"http://www.w3.org/2000/svg\" height=\"24px\"viewBox=\"0 0 24 24\"\n",
              "       width=\"24px\">\n",
              "    <path d=\"M0 0h24v24H0V0z\" fill=\"none\"/>\n",
              "    <path d=\"M18.56 5.44l.94 2.06.94-2.06 2.06-.94-2.06-.94-.94-2.06-.94 2.06-2.06.94zm-11 1L8.5 8.5l.94-2.06 2.06-.94-2.06-.94L8.5 2.5l-.94 2.06-2.06.94zm10 10l.94 2.06.94-2.06 2.06-.94-2.06-.94-.94-2.06-.94 2.06-2.06.94z\"/><path d=\"M17.41 7.96l-1.37-1.37c-.4-.4-.92-.59-1.43-.59-.52 0-1.04.2-1.43.59L10.3 9.45l-7.72 7.72c-.78.78-.78 2.05 0 2.83L4 21.41c.39.39.9.59 1.41.59.51 0 1.02-.2 1.41-.59l7.78-7.78 2.81-2.81c.8-.78.8-2.07 0-2.86zM5.41 20L4 18.59l7.72-7.72 1.47 1.35L5.41 20z\"/>\n",
              "  </svg>\n",
              "      </button>\n",
              "\n",
              "\n",
              "\n",
              "    <div id=\"df-38ad8be8-f1a3-4b3b-ae58-bd59b31ad856\">\n",
              "      <button class=\"colab-df-quickchart\" onclick=\"quickchart('df-38ad8be8-f1a3-4b3b-ae58-bd59b31ad856')\"\n",
              "              title=\"Suggest charts.\"\n",
              "              style=\"display:none;\">\n",
              "\n",
              "<svg xmlns=\"http://www.w3.org/2000/svg\" height=\"24px\"viewBox=\"0 0 24 24\"\n",
              "     width=\"24px\">\n",
              "    <g>\n",
              "        <path d=\"M19 3H5c-1.1 0-2 .9-2 2v14c0 1.1.9 2 2 2h14c1.1 0 2-.9 2-2V5c0-1.1-.9-2-2-2zM9 17H7v-7h2v7zm4 0h-2V7h2v10zm4 0h-2v-4h2v4z\"/>\n",
              "    </g>\n",
              "</svg>\n",
              "      </button>\n",
              "    </div>\n",
              "\n",
              "<style>\n",
              "  .colab-df-quickchart {\n",
              "    background-color: #E8F0FE;\n",
              "    border: none;\n",
              "    border-radius: 50%;\n",
              "    cursor: pointer;\n",
              "    display: none;\n",
              "    fill: #1967D2;\n",
              "    height: 32px;\n",
              "    padding: 0 0 0 0;\n",
              "    width: 32px;\n",
              "  }\n",
              "\n",
              "  .colab-df-quickchart:hover {\n",
              "    background-color: #E2EBFA;\n",
              "    box-shadow: 0px 1px 2px rgba(60, 64, 67, 0.3), 0px 1px 3px 1px rgba(60, 64, 67, 0.15);\n",
              "    fill: #174EA6;\n",
              "  }\n",
              "\n",
              "  [theme=dark] .colab-df-quickchart {\n",
              "    background-color: #3B4455;\n",
              "    fill: #D2E3FC;\n",
              "  }\n",
              "\n",
              "  [theme=dark] .colab-df-quickchart:hover {\n",
              "    background-color: #434B5C;\n",
              "    box-shadow: 0px 1px 3px 1px rgba(0, 0, 0, 0.15);\n",
              "    filter: drop-shadow(0px 1px 2px rgba(0, 0, 0, 0.3));\n",
              "    fill: #FFFFFF;\n",
              "  }\n",
              "</style>\n",
              "\n",
              "    <script>\n",
              "      async function quickchart(key) {\n",
              "        const containerElement = document.querySelector('#' + key);\n",
              "        const charts = await google.colab.kernel.invokeFunction(\n",
              "            'suggestCharts', [key], {});\n",
              "      }\n",
              "    </script>\n",
              "\n",
              "      <script>\n",
              "\n",
              "function displayQuickchartButton(domScope) {\n",
              "  let quickchartButtonEl =\n",
              "    domScope.querySelector('#df-38ad8be8-f1a3-4b3b-ae58-bd59b31ad856 button.colab-df-quickchart');\n",
              "  quickchartButtonEl.style.display =\n",
              "    google.colab.kernel.accessAllowed ? 'block' : 'none';\n",
              "}\n",
              "\n",
              "        displayQuickchartButton(document);\n",
              "      </script>\n",
              "      <style>\n",
              "    .colab-df-container {\n",
              "      display:flex;\n",
              "      flex-wrap:wrap;\n",
              "      gap: 12px;\n",
              "    }\n",
              "\n",
              "    .colab-df-convert {\n",
              "      background-color: #E8F0FE;\n",
              "      border: none;\n",
              "      border-radius: 50%;\n",
              "      cursor: pointer;\n",
              "      display: none;\n",
              "      fill: #1967D2;\n",
              "      height: 32px;\n",
              "      padding: 0 0 0 0;\n",
              "      width: 32px;\n",
              "    }\n",
              "\n",
              "    .colab-df-convert:hover {\n",
              "      background-color: #E2EBFA;\n",
              "      box-shadow: 0px 1px 2px rgba(60, 64, 67, 0.3), 0px 1px 3px 1px rgba(60, 64, 67, 0.15);\n",
              "      fill: #174EA6;\n",
              "    }\n",
              "\n",
              "    [theme=dark] .colab-df-convert {\n",
              "      background-color: #3B4455;\n",
              "      fill: #D2E3FC;\n",
              "    }\n",
              "\n",
              "    [theme=dark] .colab-df-convert:hover {\n",
              "      background-color: #434B5C;\n",
              "      box-shadow: 0px 1px 3px 1px rgba(0, 0, 0, 0.15);\n",
              "      filter: drop-shadow(0px 1px 2px rgba(0, 0, 0, 0.3));\n",
              "      fill: #FFFFFF;\n",
              "    }\n",
              "  </style>\n",
              "\n",
              "      <script>\n",
              "        const buttonEl =\n",
              "          document.querySelector('#df-2f2fdf57-515d-4453-9411-e7c07e4a238e button.colab-df-convert');\n",
              "        buttonEl.style.display =\n",
              "          google.colab.kernel.accessAllowed ? 'block' : 'none';\n",
              "\n",
              "        async function convertToInteractive(key) {\n",
              "          const element = document.querySelector('#df-2f2fdf57-515d-4453-9411-e7c07e4a238e');\n",
              "          const dataTable =\n",
              "            await google.colab.kernel.invokeFunction('convertToInteractive',\n",
              "                                                     [key], {});\n",
              "          if (!dataTable) return;\n",
              "\n",
              "          const docLinkHtml = 'Like what you see? Visit the ' +\n",
              "            '<a target=\"_blank\" href=https://colab.research.google.com/notebooks/data_table.ipynb>data table notebook</a>'\n",
              "            + ' to learn more about interactive tables.';\n",
              "          element.innerHTML = '';\n",
              "          dataTable['output_type'] = 'display_data';\n",
              "          await google.colab.output.renderOutput(dataTable, element);\n",
              "          const docLink = document.createElement('div');\n",
              "          docLink.innerHTML = docLinkHtml;\n",
              "          element.appendChild(docLink);\n",
              "        }\n",
              "      </script>\n",
              "    </div>\n",
              "  </div>\n"
            ]
          },
          "metadata": {},
          "execution_count": 129
        }
      ]
    },
    {
      "cell_type": "code",
      "source": [
        "sparcs.drop(['Total Costs'], axis = 1, inplace = True)\n",
        "sparcs.head()"
      ],
      "metadata": {
        "id": "wGyedwiaIAvq",
        "colab": {
          "base_uri": "https://localhost:8080/",
          "height": 371
        },
        "outputId": "7f71a73f-5af5-4ac0-9ab6-24addbc6c43a"
      },
      "execution_count": null,
      "outputs": [
        {
          "output_type": "execute_result",
          "data": {
            "text/plain": [
              "  Health Service Area Hospital County  Operating Certificate Number  \\\n",
              "0       New York City       Manhattan                     7002054.0   \n",
              "1       New York City       Manhattan                     7002054.0   \n",
              "2       New York City       Manhattan                     7002054.0   \n",
              "3       Southern Tier        Tompkins                     5401001.0   \n",
              "4       New York City           Bronx                     7000014.0   \n",
              "\n",
              "   Facility ID Age Group Length of Stay Type of Admission  \\\n",
              "0       1458.0   0 to 17              2           Newborn   \n",
              "1       1458.0   0 to 17              4         Emergency   \n",
              "2       1464.0   0 to 17              2           Newborn   \n",
              "3        977.0   0 to 17              2           Newborn   \n",
              "4       1176.0   0 to 17              3         Emergency   \n",
              "\n",
              "                    Patient Disposition CCS Procedure Description  \\\n",
              "0                     Home or Self Care              CIRCUMCISION   \n",
              "1  Cancer Center or Children's Hospital    RESP INTUB/MECH VENTIL   \n",
              "2                     Home or Self Care    OPHTHALM-/OT-OLOGIC DX   \n",
              "3                     Home or Self Care   PROPHYLACTIC VAC/INOCUL   \n",
              "4                     Home or Self Care     DIAGNOSTIC SPINAL TAP   \n",
              "\n",
              "   APR Severity of Illness Code APR Risk of Mortality Source of Payment 1  \n",
              "0                             1                 Minor   Insurance Company  \n",
              "1                             2                 Major   Insurance Company  \n",
              "2                             1                 Minor          Blue Cross  \n",
              "3                             2                 Minor          Blue Cross  \n",
              "4                             2                 Minor            Self-Pay  "
            ],
            "text/html": [
              "\n",
              "\n",
              "  <div id=\"df-1c62aea6-98ca-466a-bfa6-84f0f12d6f51\">\n",
              "    <div class=\"colab-df-container\">\n",
              "      <div>\n",
              "<style scoped>\n",
              "    .dataframe tbody tr th:only-of-type {\n",
              "        vertical-align: middle;\n",
              "    }\n",
              "\n",
              "    .dataframe tbody tr th {\n",
              "        vertical-align: top;\n",
              "    }\n",
              "\n",
              "    .dataframe thead th {\n",
              "        text-align: right;\n",
              "    }\n",
              "</style>\n",
              "<table border=\"1\" class=\"dataframe\">\n",
              "  <thead>\n",
              "    <tr style=\"text-align: right;\">\n",
              "      <th></th>\n",
              "      <th>Health Service Area</th>\n",
              "      <th>Hospital County</th>\n",
              "      <th>Operating Certificate Number</th>\n",
              "      <th>Facility ID</th>\n",
              "      <th>Age Group</th>\n",
              "      <th>Length of Stay</th>\n",
              "      <th>Type of Admission</th>\n",
              "      <th>Patient Disposition</th>\n",
              "      <th>CCS Procedure Description</th>\n",
              "      <th>APR Severity of Illness Code</th>\n",
              "      <th>APR Risk of Mortality</th>\n",
              "      <th>Source of Payment 1</th>\n",
              "    </tr>\n",
              "  </thead>\n",
              "  <tbody>\n",
              "    <tr>\n",
              "      <th>0</th>\n",
              "      <td>New York City</td>\n",
              "      <td>Manhattan</td>\n",
              "      <td>7002054.0</td>\n",
              "      <td>1458.0</td>\n",
              "      <td>0 to 17</td>\n",
              "      <td>2</td>\n",
              "      <td>Newborn</td>\n",
              "      <td>Home or Self Care</td>\n",
              "      <td>CIRCUMCISION</td>\n",
              "      <td>1</td>\n",
              "      <td>Minor</td>\n",
              "      <td>Insurance Company</td>\n",
              "    </tr>\n",
              "    <tr>\n",
              "      <th>1</th>\n",
              "      <td>New York City</td>\n",
              "      <td>Manhattan</td>\n",
              "      <td>7002054.0</td>\n",
              "      <td>1458.0</td>\n",
              "      <td>0 to 17</td>\n",
              "      <td>4</td>\n",
              "      <td>Emergency</td>\n",
              "      <td>Cancer Center or Children's Hospital</td>\n",
              "      <td>RESP INTUB/MECH VENTIL</td>\n",
              "      <td>2</td>\n",
              "      <td>Major</td>\n",
              "      <td>Insurance Company</td>\n",
              "    </tr>\n",
              "    <tr>\n",
              "      <th>2</th>\n",
              "      <td>New York City</td>\n",
              "      <td>Manhattan</td>\n",
              "      <td>7002054.0</td>\n",
              "      <td>1464.0</td>\n",
              "      <td>0 to 17</td>\n",
              "      <td>2</td>\n",
              "      <td>Newborn</td>\n",
              "      <td>Home or Self Care</td>\n",
              "      <td>OPHTHALM-/OT-OLOGIC DX</td>\n",
              "      <td>1</td>\n",
              "      <td>Minor</td>\n",
              "      <td>Blue Cross</td>\n",
              "    </tr>\n",
              "    <tr>\n",
              "      <th>3</th>\n",
              "      <td>Southern Tier</td>\n",
              "      <td>Tompkins</td>\n",
              "      <td>5401001.0</td>\n",
              "      <td>977.0</td>\n",
              "      <td>0 to 17</td>\n",
              "      <td>2</td>\n",
              "      <td>Newborn</td>\n",
              "      <td>Home or Self Care</td>\n",
              "      <td>PROPHYLACTIC VAC/INOCUL</td>\n",
              "      <td>2</td>\n",
              "      <td>Minor</td>\n",
              "      <td>Blue Cross</td>\n",
              "    </tr>\n",
              "    <tr>\n",
              "      <th>4</th>\n",
              "      <td>New York City</td>\n",
              "      <td>Bronx</td>\n",
              "      <td>7000014.0</td>\n",
              "      <td>1176.0</td>\n",
              "      <td>0 to 17</td>\n",
              "      <td>3</td>\n",
              "      <td>Emergency</td>\n",
              "      <td>Home or Self Care</td>\n",
              "      <td>DIAGNOSTIC SPINAL TAP</td>\n",
              "      <td>2</td>\n",
              "      <td>Minor</td>\n",
              "      <td>Self-Pay</td>\n",
              "    </tr>\n",
              "  </tbody>\n",
              "</table>\n",
              "</div>\n",
              "      <button class=\"colab-df-convert\" onclick=\"convertToInteractive('df-1c62aea6-98ca-466a-bfa6-84f0f12d6f51')\"\n",
              "              title=\"Convert this dataframe to an interactive table.\"\n",
              "              style=\"display:none;\">\n",
              "\n",
              "  <svg xmlns=\"http://www.w3.org/2000/svg\" height=\"24px\"viewBox=\"0 0 24 24\"\n",
              "       width=\"24px\">\n",
              "    <path d=\"M0 0h24v24H0V0z\" fill=\"none\"/>\n",
              "    <path d=\"M18.56 5.44l.94 2.06.94-2.06 2.06-.94-2.06-.94-.94-2.06-.94 2.06-2.06.94zm-11 1L8.5 8.5l.94-2.06 2.06-.94-2.06-.94L8.5 2.5l-.94 2.06-2.06.94zm10 10l.94 2.06.94-2.06 2.06-.94-2.06-.94-.94-2.06-.94 2.06-2.06.94z\"/><path d=\"M17.41 7.96l-1.37-1.37c-.4-.4-.92-.59-1.43-.59-.52 0-1.04.2-1.43.59L10.3 9.45l-7.72 7.72c-.78.78-.78 2.05 0 2.83L4 21.41c.39.39.9.59 1.41.59.51 0 1.02-.2 1.41-.59l7.78-7.78 2.81-2.81c.8-.78.8-2.07 0-2.86zM5.41 20L4 18.59l7.72-7.72 1.47 1.35L5.41 20z\"/>\n",
              "  </svg>\n",
              "      </button>\n",
              "\n",
              "\n",
              "\n",
              "    <div id=\"df-c1530656-5a48-40f9-8234-75f75a8280de\">\n",
              "      <button class=\"colab-df-quickchart\" onclick=\"quickchart('df-c1530656-5a48-40f9-8234-75f75a8280de')\"\n",
              "              title=\"Suggest charts.\"\n",
              "              style=\"display:none;\">\n",
              "\n",
              "<svg xmlns=\"http://www.w3.org/2000/svg\" height=\"24px\"viewBox=\"0 0 24 24\"\n",
              "     width=\"24px\">\n",
              "    <g>\n",
              "        <path d=\"M19 3H5c-1.1 0-2 .9-2 2v14c0 1.1.9 2 2 2h14c1.1 0 2-.9 2-2V5c0-1.1-.9-2-2-2zM9 17H7v-7h2v7zm4 0h-2V7h2v10zm4 0h-2v-4h2v4z\"/>\n",
              "    </g>\n",
              "</svg>\n",
              "      </button>\n",
              "    </div>\n",
              "\n",
              "<style>\n",
              "  .colab-df-quickchart {\n",
              "    background-color: #E8F0FE;\n",
              "    border: none;\n",
              "    border-radius: 50%;\n",
              "    cursor: pointer;\n",
              "    display: none;\n",
              "    fill: #1967D2;\n",
              "    height: 32px;\n",
              "    padding: 0 0 0 0;\n",
              "    width: 32px;\n",
              "  }\n",
              "\n",
              "  .colab-df-quickchart:hover {\n",
              "    background-color: #E2EBFA;\n",
              "    box-shadow: 0px 1px 2px rgba(60, 64, 67, 0.3), 0px 1px 3px 1px rgba(60, 64, 67, 0.15);\n",
              "    fill: #174EA6;\n",
              "  }\n",
              "\n",
              "  [theme=dark] .colab-df-quickchart {\n",
              "    background-color: #3B4455;\n",
              "    fill: #D2E3FC;\n",
              "  }\n",
              "\n",
              "  [theme=dark] .colab-df-quickchart:hover {\n",
              "    background-color: #434B5C;\n",
              "    box-shadow: 0px 1px 3px 1px rgba(0, 0, 0, 0.15);\n",
              "    filter: drop-shadow(0px 1px 2px rgba(0, 0, 0, 0.3));\n",
              "    fill: #FFFFFF;\n",
              "  }\n",
              "</style>\n",
              "\n",
              "    <script>\n",
              "      async function quickchart(key) {\n",
              "        const containerElement = document.querySelector('#' + key);\n",
              "        const charts = await google.colab.kernel.invokeFunction(\n",
              "            'suggestCharts', [key], {});\n",
              "      }\n",
              "    </script>\n",
              "\n",
              "      <script>\n",
              "\n",
              "function displayQuickchartButton(domScope) {\n",
              "  let quickchartButtonEl =\n",
              "    domScope.querySelector('#df-c1530656-5a48-40f9-8234-75f75a8280de button.colab-df-quickchart');\n",
              "  quickchartButtonEl.style.display =\n",
              "    google.colab.kernel.accessAllowed ? 'block' : 'none';\n",
              "}\n",
              "\n",
              "        displayQuickchartButton(document);\n",
              "      </script>\n",
              "      <style>\n",
              "    .colab-df-container {\n",
              "      display:flex;\n",
              "      flex-wrap:wrap;\n",
              "      gap: 12px;\n",
              "    }\n",
              "\n",
              "    .colab-df-convert {\n",
              "      background-color: #E8F0FE;\n",
              "      border: none;\n",
              "      border-radius: 50%;\n",
              "      cursor: pointer;\n",
              "      display: none;\n",
              "      fill: #1967D2;\n",
              "      height: 32px;\n",
              "      padding: 0 0 0 0;\n",
              "      width: 32px;\n",
              "    }\n",
              "\n",
              "    .colab-df-convert:hover {\n",
              "      background-color: #E2EBFA;\n",
              "      box-shadow: 0px 1px 2px rgba(60, 64, 67, 0.3), 0px 1px 3px 1px rgba(60, 64, 67, 0.15);\n",
              "      fill: #174EA6;\n",
              "    }\n",
              "\n",
              "    [theme=dark] .colab-df-convert {\n",
              "      background-color: #3B4455;\n",
              "      fill: #D2E3FC;\n",
              "    }\n",
              "\n",
              "    [theme=dark] .colab-df-convert:hover {\n",
              "      background-color: #434B5C;\n",
              "      box-shadow: 0px 1px 3px 1px rgba(0, 0, 0, 0.15);\n",
              "      filter: drop-shadow(0px 1px 2px rgba(0, 0, 0, 0.3));\n",
              "      fill: #FFFFFF;\n",
              "    }\n",
              "  </style>\n",
              "\n",
              "      <script>\n",
              "        const buttonEl =\n",
              "          document.querySelector('#df-1c62aea6-98ca-466a-bfa6-84f0f12d6f51 button.colab-df-convert');\n",
              "        buttonEl.style.display =\n",
              "          google.colab.kernel.accessAllowed ? 'block' : 'none';\n",
              "\n",
              "        async function convertToInteractive(key) {\n",
              "          const element = document.querySelector('#df-1c62aea6-98ca-466a-bfa6-84f0f12d6f51');\n",
              "          const dataTable =\n",
              "            await google.colab.kernel.invokeFunction('convertToInteractive',\n",
              "                                                     [key], {});\n",
              "          if (!dataTable) return;\n",
              "\n",
              "          const docLinkHtml = 'Like what you see? Visit the ' +\n",
              "            '<a target=\"_blank\" href=https://colab.research.google.com/notebooks/data_table.ipynb>data table notebook</a>'\n",
              "            + ' to learn more about interactive tables.';\n",
              "          element.innerHTML = '';\n",
              "          dataTable['output_type'] = 'display_data';\n",
              "          await google.colab.output.renderOutput(dataTable, element);\n",
              "          const docLink = document.createElement('div');\n",
              "          docLink.innerHTML = docLinkHtml;\n",
              "          element.appendChild(docLink);\n",
              "        }\n",
              "      </script>\n",
              "    </div>\n",
              "  </div>\n"
            ]
          },
          "metadata": {},
          "execution_count": 130
        }
      ]
    },
    {
      "cell_type": "code",
      "source": [
        "sparcs.drop(['Hospital County'], axis = 1, inplace = True)\n",
        "sparcs.head()"
      ],
      "metadata": {
        "id": "gmCj5x9eICyj",
        "colab": {
          "base_uri": "https://localhost:8080/",
          "height": 354
        },
        "outputId": "d7a55bc5-edc3-4b6f-a13d-7f45379b95ec"
      },
      "execution_count": null,
      "outputs": [
        {
          "output_type": "execute_result",
          "data": {
            "text/plain": [
              "  Health Service Area  Operating Certificate Number  Facility ID Age Group  \\\n",
              "0       New York City                     7002054.0       1458.0   0 to 17   \n",
              "1       New York City                     7002054.0       1458.0   0 to 17   \n",
              "2       New York City                     7002054.0       1464.0   0 to 17   \n",
              "3       Southern Tier                     5401001.0        977.0   0 to 17   \n",
              "4       New York City                     7000014.0       1176.0   0 to 17   \n",
              "\n",
              "  Length of Stay Type of Admission                   Patient Disposition  \\\n",
              "0              2           Newborn                     Home or Self Care   \n",
              "1              4         Emergency  Cancer Center or Children's Hospital   \n",
              "2              2           Newborn                     Home or Self Care   \n",
              "3              2           Newborn                     Home or Self Care   \n",
              "4              3         Emergency                     Home or Self Care   \n",
              "\n",
              "  CCS Procedure Description  APR Severity of Illness Code  \\\n",
              "0              CIRCUMCISION                             1   \n",
              "1    RESP INTUB/MECH VENTIL                             2   \n",
              "2    OPHTHALM-/OT-OLOGIC DX                             1   \n",
              "3   PROPHYLACTIC VAC/INOCUL                             2   \n",
              "4     DIAGNOSTIC SPINAL TAP                             2   \n",
              "\n",
              "  APR Risk of Mortality Source of Payment 1  \n",
              "0                 Minor   Insurance Company  \n",
              "1                 Major   Insurance Company  \n",
              "2                 Minor          Blue Cross  \n",
              "3                 Minor          Blue Cross  \n",
              "4                 Minor            Self-Pay  "
            ],
            "text/html": [
              "\n",
              "\n",
              "  <div id=\"df-398e5261-e45b-405c-b3ce-39b92ed60fd0\">\n",
              "    <div class=\"colab-df-container\">\n",
              "      <div>\n",
              "<style scoped>\n",
              "    .dataframe tbody tr th:only-of-type {\n",
              "        vertical-align: middle;\n",
              "    }\n",
              "\n",
              "    .dataframe tbody tr th {\n",
              "        vertical-align: top;\n",
              "    }\n",
              "\n",
              "    .dataframe thead th {\n",
              "        text-align: right;\n",
              "    }\n",
              "</style>\n",
              "<table border=\"1\" class=\"dataframe\">\n",
              "  <thead>\n",
              "    <tr style=\"text-align: right;\">\n",
              "      <th></th>\n",
              "      <th>Health Service Area</th>\n",
              "      <th>Operating Certificate Number</th>\n",
              "      <th>Facility ID</th>\n",
              "      <th>Age Group</th>\n",
              "      <th>Length of Stay</th>\n",
              "      <th>Type of Admission</th>\n",
              "      <th>Patient Disposition</th>\n",
              "      <th>CCS Procedure Description</th>\n",
              "      <th>APR Severity of Illness Code</th>\n",
              "      <th>APR Risk of Mortality</th>\n",
              "      <th>Source of Payment 1</th>\n",
              "    </tr>\n",
              "  </thead>\n",
              "  <tbody>\n",
              "    <tr>\n",
              "      <th>0</th>\n",
              "      <td>New York City</td>\n",
              "      <td>7002054.0</td>\n",
              "      <td>1458.0</td>\n",
              "      <td>0 to 17</td>\n",
              "      <td>2</td>\n",
              "      <td>Newborn</td>\n",
              "      <td>Home or Self Care</td>\n",
              "      <td>CIRCUMCISION</td>\n",
              "      <td>1</td>\n",
              "      <td>Minor</td>\n",
              "      <td>Insurance Company</td>\n",
              "    </tr>\n",
              "    <tr>\n",
              "      <th>1</th>\n",
              "      <td>New York City</td>\n",
              "      <td>7002054.0</td>\n",
              "      <td>1458.0</td>\n",
              "      <td>0 to 17</td>\n",
              "      <td>4</td>\n",
              "      <td>Emergency</td>\n",
              "      <td>Cancer Center or Children's Hospital</td>\n",
              "      <td>RESP INTUB/MECH VENTIL</td>\n",
              "      <td>2</td>\n",
              "      <td>Major</td>\n",
              "      <td>Insurance Company</td>\n",
              "    </tr>\n",
              "    <tr>\n",
              "      <th>2</th>\n",
              "      <td>New York City</td>\n",
              "      <td>7002054.0</td>\n",
              "      <td>1464.0</td>\n",
              "      <td>0 to 17</td>\n",
              "      <td>2</td>\n",
              "      <td>Newborn</td>\n",
              "      <td>Home or Self Care</td>\n",
              "      <td>OPHTHALM-/OT-OLOGIC DX</td>\n",
              "      <td>1</td>\n",
              "      <td>Minor</td>\n",
              "      <td>Blue Cross</td>\n",
              "    </tr>\n",
              "    <tr>\n",
              "      <th>3</th>\n",
              "      <td>Southern Tier</td>\n",
              "      <td>5401001.0</td>\n",
              "      <td>977.0</td>\n",
              "      <td>0 to 17</td>\n",
              "      <td>2</td>\n",
              "      <td>Newborn</td>\n",
              "      <td>Home or Self Care</td>\n",
              "      <td>PROPHYLACTIC VAC/INOCUL</td>\n",
              "      <td>2</td>\n",
              "      <td>Minor</td>\n",
              "      <td>Blue Cross</td>\n",
              "    </tr>\n",
              "    <tr>\n",
              "      <th>4</th>\n",
              "      <td>New York City</td>\n",
              "      <td>7000014.0</td>\n",
              "      <td>1176.0</td>\n",
              "      <td>0 to 17</td>\n",
              "      <td>3</td>\n",
              "      <td>Emergency</td>\n",
              "      <td>Home or Self Care</td>\n",
              "      <td>DIAGNOSTIC SPINAL TAP</td>\n",
              "      <td>2</td>\n",
              "      <td>Minor</td>\n",
              "      <td>Self-Pay</td>\n",
              "    </tr>\n",
              "  </tbody>\n",
              "</table>\n",
              "</div>\n",
              "      <button class=\"colab-df-convert\" onclick=\"convertToInteractive('df-398e5261-e45b-405c-b3ce-39b92ed60fd0')\"\n",
              "              title=\"Convert this dataframe to an interactive table.\"\n",
              "              style=\"display:none;\">\n",
              "\n",
              "  <svg xmlns=\"http://www.w3.org/2000/svg\" height=\"24px\"viewBox=\"0 0 24 24\"\n",
              "       width=\"24px\">\n",
              "    <path d=\"M0 0h24v24H0V0z\" fill=\"none\"/>\n",
              "    <path d=\"M18.56 5.44l.94 2.06.94-2.06 2.06-.94-2.06-.94-.94-2.06-.94 2.06-2.06.94zm-11 1L8.5 8.5l.94-2.06 2.06-.94-2.06-.94L8.5 2.5l-.94 2.06-2.06.94zm10 10l.94 2.06.94-2.06 2.06-.94-2.06-.94-.94-2.06-.94 2.06-2.06.94z\"/><path d=\"M17.41 7.96l-1.37-1.37c-.4-.4-.92-.59-1.43-.59-.52 0-1.04.2-1.43.59L10.3 9.45l-7.72 7.72c-.78.78-.78 2.05 0 2.83L4 21.41c.39.39.9.59 1.41.59.51 0 1.02-.2 1.41-.59l7.78-7.78 2.81-2.81c.8-.78.8-2.07 0-2.86zM5.41 20L4 18.59l7.72-7.72 1.47 1.35L5.41 20z\"/>\n",
              "  </svg>\n",
              "      </button>\n",
              "\n",
              "\n",
              "\n",
              "    <div id=\"df-198d7229-0ec1-4f8b-888f-5b6fb98984f6\">\n",
              "      <button class=\"colab-df-quickchart\" onclick=\"quickchart('df-198d7229-0ec1-4f8b-888f-5b6fb98984f6')\"\n",
              "              title=\"Suggest charts.\"\n",
              "              style=\"display:none;\">\n",
              "\n",
              "<svg xmlns=\"http://www.w3.org/2000/svg\" height=\"24px\"viewBox=\"0 0 24 24\"\n",
              "     width=\"24px\">\n",
              "    <g>\n",
              "        <path d=\"M19 3H5c-1.1 0-2 .9-2 2v14c0 1.1.9 2 2 2h14c1.1 0 2-.9 2-2V5c0-1.1-.9-2-2-2zM9 17H7v-7h2v7zm4 0h-2V7h2v10zm4 0h-2v-4h2v4z\"/>\n",
              "    </g>\n",
              "</svg>\n",
              "      </button>\n",
              "    </div>\n",
              "\n",
              "<style>\n",
              "  .colab-df-quickchart {\n",
              "    background-color: #E8F0FE;\n",
              "    border: none;\n",
              "    border-radius: 50%;\n",
              "    cursor: pointer;\n",
              "    display: none;\n",
              "    fill: #1967D2;\n",
              "    height: 32px;\n",
              "    padding: 0 0 0 0;\n",
              "    width: 32px;\n",
              "  }\n",
              "\n",
              "  .colab-df-quickchart:hover {\n",
              "    background-color: #E2EBFA;\n",
              "    box-shadow: 0px 1px 2px rgba(60, 64, 67, 0.3), 0px 1px 3px 1px rgba(60, 64, 67, 0.15);\n",
              "    fill: #174EA6;\n",
              "  }\n",
              "\n",
              "  [theme=dark] .colab-df-quickchart {\n",
              "    background-color: #3B4455;\n",
              "    fill: #D2E3FC;\n",
              "  }\n",
              "\n",
              "  [theme=dark] .colab-df-quickchart:hover {\n",
              "    background-color: #434B5C;\n",
              "    box-shadow: 0px 1px 3px 1px rgba(0, 0, 0, 0.15);\n",
              "    filter: drop-shadow(0px 1px 2px rgba(0, 0, 0, 0.3));\n",
              "    fill: #FFFFFF;\n",
              "  }\n",
              "</style>\n",
              "\n",
              "    <script>\n",
              "      async function quickchart(key) {\n",
              "        const containerElement = document.querySelector('#' + key);\n",
              "        const charts = await google.colab.kernel.invokeFunction(\n",
              "            'suggestCharts', [key], {});\n",
              "      }\n",
              "    </script>\n",
              "\n",
              "      <script>\n",
              "\n",
              "function displayQuickchartButton(domScope) {\n",
              "  let quickchartButtonEl =\n",
              "    domScope.querySelector('#df-198d7229-0ec1-4f8b-888f-5b6fb98984f6 button.colab-df-quickchart');\n",
              "  quickchartButtonEl.style.display =\n",
              "    google.colab.kernel.accessAllowed ? 'block' : 'none';\n",
              "}\n",
              "\n",
              "        displayQuickchartButton(document);\n",
              "      </script>\n",
              "      <style>\n",
              "    .colab-df-container {\n",
              "      display:flex;\n",
              "      flex-wrap:wrap;\n",
              "      gap: 12px;\n",
              "    }\n",
              "\n",
              "    .colab-df-convert {\n",
              "      background-color: #E8F0FE;\n",
              "      border: none;\n",
              "      border-radius: 50%;\n",
              "      cursor: pointer;\n",
              "      display: none;\n",
              "      fill: #1967D2;\n",
              "      height: 32px;\n",
              "      padding: 0 0 0 0;\n",
              "      width: 32px;\n",
              "    }\n",
              "\n",
              "    .colab-df-convert:hover {\n",
              "      background-color: #E2EBFA;\n",
              "      box-shadow: 0px 1px 2px rgba(60, 64, 67, 0.3), 0px 1px 3px 1px rgba(60, 64, 67, 0.15);\n",
              "      fill: #174EA6;\n",
              "    }\n",
              "\n",
              "    [theme=dark] .colab-df-convert {\n",
              "      background-color: #3B4455;\n",
              "      fill: #D2E3FC;\n",
              "    }\n",
              "\n",
              "    [theme=dark] .colab-df-convert:hover {\n",
              "      background-color: #434B5C;\n",
              "      box-shadow: 0px 1px 3px 1px rgba(0, 0, 0, 0.15);\n",
              "      filter: drop-shadow(0px 1px 2px rgba(0, 0, 0, 0.3));\n",
              "      fill: #FFFFFF;\n",
              "    }\n",
              "  </style>\n",
              "\n",
              "      <script>\n",
              "        const buttonEl =\n",
              "          document.querySelector('#df-398e5261-e45b-405c-b3ce-39b92ed60fd0 button.colab-df-convert');\n",
              "        buttonEl.style.display =\n",
              "          google.colab.kernel.accessAllowed ? 'block' : 'none';\n",
              "\n",
              "        async function convertToInteractive(key) {\n",
              "          const element = document.querySelector('#df-398e5261-e45b-405c-b3ce-39b92ed60fd0');\n",
              "          const dataTable =\n",
              "            await google.colab.kernel.invokeFunction('convertToInteractive',\n",
              "                                                     [key], {});\n",
              "          if (!dataTable) return;\n",
              "\n",
              "          const docLinkHtml = 'Like what you see? Visit the ' +\n",
              "            '<a target=\"_blank\" href=https://colab.research.google.com/notebooks/data_table.ipynb>data table notebook</a>'\n",
              "            + ' to learn more about interactive tables.';\n",
              "          element.innerHTML = '';\n",
              "          dataTable['output_type'] = 'display_data';\n",
              "          await google.colab.output.renderOutput(dataTable, element);\n",
              "          const docLink = document.createElement('div');\n",
              "          docLink.innerHTML = docLinkHtml;\n",
              "          element.appendChild(docLink);\n",
              "        }\n",
              "      </script>\n",
              "    </div>\n",
              "  </div>\n"
            ]
          },
          "metadata": {},
          "execution_count": 131
        }
      ]
    },
    {
      "cell_type": "code",
      "source": [
        "sparcs.tail()"
      ],
      "metadata": {
        "colab": {
          "base_uri": "https://localhost:8080/",
          "height": 354
        },
        "id": "4GJ7bC6CTGDl",
        "outputId": "2a832205-38b5-4861-b0e0-f13158731ffe"
      },
      "execution_count": null,
      "outputs": [
        {
          "output_type": "execute_result",
          "data": {
            "text/plain": [
              "      Health Service Area  Operating Certificate Number  Facility ID  \\\n",
              "19994       New York City                     7002024.0       1456.0   \n",
              "19995       New York City                     7002024.0       1456.0   \n",
              "19996       New York City                     7002024.0       1456.0   \n",
              "19997       New York City                     7002024.0       1456.0   \n",
              "19998       New York City                     7002024.0       1456.0   \n",
              "\n",
              "      Age Group Length of Stay Type of Admission Patient Disposition  \\\n",
              "19994   0 to 17              4           Newborn   Home or Self Care   \n",
              "19995   0 to 17              2           Newborn   Home or Self Care   \n",
              "19996   0 to 17              2           Newborn   Home or Self Care   \n",
              "19997   0 to 17              2           Newborn   Home or Self Care   \n",
              "19998   0 to 17              1           Newborn   Home or Self Care   \n",
              "\n",
              "      CCS Procedure Description  APR Severity of Illness Code  \\\n",
              "19994    OPHTHALM-/OT-OLOGIC DX                             1   \n",
              "19995    OTHER THERAPEUTIC PRCS                             1   \n",
              "19996    OPHTHALM-/OT-OLOGIC DX                             1   \n",
              "19997    OPHTHALM-/OT-OLOGIC DX                             1   \n",
              "19998    OPHTHALM-/OT-OLOGIC DX                             1   \n",
              "\n",
              "      APR Risk of Mortality Source of Payment 1  \n",
              "19994                 Minor   Insurance Company  \n",
              "19995                 Minor          Blue Cross  \n",
              "19996                 Minor   Insurance Company  \n",
              "19997                 Minor   Insurance Company  \n",
              "19998                 Minor   Insurance Company  "
            ],
            "text/html": [
              "\n",
              "\n",
              "  <div id=\"df-ded817b4-1998-4cbe-b1e6-1a596b952f10\">\n",
              "    <div class=\"colab-df-container\">\n",
              "      <div>\n",
              "<style scoped>\n",
              "    .dataframe tbody tr th:only-of-type {\n",
              "        vertical-align: middle;\n",
              "    }\n",
              "\n",
              "    .dataframe tbody tr th {\n",
              "        vertical-align: top;\n",
              "    }\n",
              "\n",
              "    .dataframe thead th {\n",
              "        text-align: right;\n",
              "    }\n",
              "</style>\n",
              "<table border=\"1\" class=\"dataframe\">\n",
              "  <thead>\n",
              "    <tr style=\"text-align: right;\">\n",
              "      <th></th>\n",
              "      <th>Health Service Area</th>\n",
              "      <th>Operating Certificate Number</th>\n",
              "      <th>Facility ID</th>\n",
              "      <th>Age Group</th>\n",
              "      <th>Length of Stay</th>\n",
              "      <th>Type of Admission</th>\n",
              "      <th>Patient Disposition</th>\n",
              "      <th>CCS Procedure Description</th>\n",
              "      <th>APR Severity of Illness Code</th>\n",
              "      <th>APR Risk of Mortality</th>\n",
              "      <th>Source of Payment 1</th>\n",
              "    </tr>\n",
              "  </thead>\n",
              "  <tbody>\n",
              "    <tr>\n",
              "      <th>19994</th>\n",
              "      <td>New York City</td>\n",
              "      <td>7002024.0</td>\n",
              "      <td>1456.0</td>\n",
              "      <td>0 to 17</td>\n",
              "      <td>4</td>\n",
              "      <td>Newborn</td>\n",
              "      <td>Home or Self Care</td>\n",
              "      <td>OPHTHALM-/OT-OLOGIC DX</td>\n",
              "      <td>1</td>\n",
              "      <td>Minor</td>\n",
              "      <td>Insurance Company</td>\n",
              "    </tr>\n",
              "    <tr>\n",
              "      <th>19995</th>\n",
              "      <td>New York City</td>\n",
              "      <td>7002024.0</td>\n",
              "      <td>1456.0</td>\n",
              "      <td>0 to 17</td>\n",
              "      <td>2</td>\n",
              "      <td>Newborn</td>\n",
              "      <td>Home or Self Care</td>\n",
              "      <td>OTHER THERAPEUTIC PRCS</td>\n",
              "      <td>1</td>\n",
              "      <td>Minor</td>\n",
              "      <td>Blue Cross</td>\n",
              "    </tr>\n",
              "    <tr>\n",
              "      <th>19996</th>\n",
              "      <td>New York City</td>\n",
              "      <td>7002024.0</td>\n",
              "      <td>1456.0</td>\n",
              "      <td>0 to 17</td>\n",
              "      <td>2</td>\n",
              "      <td>Newborn</td>\n",
              "      <td>Home or Self Care</td>\n",
              "      <td>OPHTHALM-/OT-OLOGIC DX</td>\n",
              "      <td>1</td>\n",
              "      <td>Minor</td>\n",
              "      <td>Insurance Company</td>\n",
              "    </tr>\n",
              "    <tr>\n",
              "      <th>19997</th>\n",
              "      <td>New York City</td>\n",
              "      <td>7002024.0</td>\n",
              "      <td>1456.0</td>\n",
              "      <td>0 to 17</td>\n",
              "      <td>2</td>\n",
              "      <td>Newborn</td>\n",
              "      <td>Home or Self Care</td>\n",
              "      <td>OPHTHALM-/OT-OLOGIC DX</td>\n",
              "      <td>1</td>\n",
              "      <td>Minor</td>\n",
              "      <td>Insurance Company</td>\n",
              "    </tr>\n",
              "    <tr>\n",
              "      <th>19998</th>\n",
              "      <td>New York City</td>\n",
              "      <td>7002024.0</td>\n",
              "      <td>1456.0</td>\n",
              "      <td>0 to 17</td>\n",
              "      <td>1</td>\n",
              "      <td>Newborn</td>\n",
              "      <td>Home or Self Care</td>\n",
              "      <td>OPHTHALM-/OT-OLOGIC DX</td>\n",
              "      <td>1</td>\n",
              "      <td>Minor</td>\n",
              "      <td>Insurance Company</td>\n",
              "    </tr>\n",
              "  </tbody>\n",
              "</table>\n",
              "</div>\n",
              "      <button class=\"colab-df-convert\" onclick=\"convertToInteractive('df-ded817b4-1998-4cbe-b1e6-1a596b952f10')\"\n",
              "              title=\"Convert this dataframe to an interactive table.\"\n",
              "              style=\"display:none;\">\n",
              "\n",
              "  <svg xmlns=\"http://www.w3.org/2000/svg\" height=\"24px\"viewBox=\"0 0 24 24\"\n",
              "       width=\"24px\">\n",
              "    <path d=\"M0 0h24v24H0V0z\" fill=\"none\"/>\n",
              "    <path d=\"M18.56 5.44l.94 2.06.94-2.06 2.06-.94-2.06-.94-.94-2.06-.94 2.06-2.06.94zm-11 1L8.5 8.5l.94-2.06 2.06-.94-2.06-.94L8.5 2.5l-.94 2.06-2.06.94zm10 10l.94 2.06.94-2.06 2.06-.94-2.06-.94-.94-2.06-.94 2.06-2.06.94z\"/><path d=\"M17.41 7.96l-1.37-1.37c-.4-.4-.92-.59-1.43-.59-.52 0-1.04.2-1.43.59L10.3 9.45l-7.72 7.72c-.78.78-.78 2.05 0 2.83L4 21.41c.39.39.9.59 1.41.59.51 0 1.02-.2 1.41-.59l7.78-7.78 2.81-2.81c.8-.78.8-2.07 0-2.86zM5.41 20L4 18.59l7.72-7.72 1.47 1.35L5.41 20z\"/>\n",
              "  </svg>\n",
              "      </button>\n",
              "\n",
              "\n",
              "\n",
              "    <div id=\"df-7bc639ad-5006-44c8-8b84-866c5c2b2f04\">\n",
              "      <button class=\"colab-df-quickchart\" onclick=\"quickchart('df-7bc639ad-5006-44c8-8b84-866c5c2b2f04')\"\n",
              "              title=\"Suggest charts.\"\n",
              "              style=\"display:none;\">\n",
              "\n",
              "<svg xmlns=\"http://www.w3.org/2000/svg\" height=\"24px\"viewBox=\"0 0 24 24\"\n",
              "     width=\"24px\">\n",
              "    <g>\n",
              "        <path d=\"M19 3H5c-1.1 0-2 .9-2 2v14c0 1.1.9 2 2 2h14c1.1 0 2-.9 2-2V5c0-1.1-.9-2-2-2zM9 17H7v-7h2v7zm4 0h-2V7h2v10zm4 0h-2v-4h2v4z\"/>\n",
              "    </g>\n",
              "</svg>\n",
              "      </button>\n",
              "    </div>\n",
              "\n",
              "<style>\n",
              "  .colab-df-quickchart {\n",
              "    background-color: #E8F0FE;\n",
              "    border: none;\n",
              "    border-radius: 50%;\n",
              "    cursor: pointer;\n",
              "    display: none;\n",
              "    fill: #1967D2;\n",
              "    height: 32px;\n",
              "    padding: 0 0 0 0;\n",
              "    width: 32px;\n",
              "  }\n",
              "\n",
              "  .colab-df-quickchart:hover {\n",
              "    background-color: #E2EBFA;\n",
              "    box-shadow: 0px 1px 2px rgba(60, 64, 67, 0.3), 0px 1px 3px 1px rgba(60, 64, 67, 0.15);\n",
              "    fill: #174EA6;\n",
              "  }\n",
              "\n",
              "  [theme=dark] .colab-df-quickchart {\n",
              "    background-color: #3B4455;\n",
              "    fill: #D2E3FC;\n",
              "  }\n",
              "\n",
              "  [theme=dark] .colab-df-quickchart:hover {\n",
              "    background-color: #434B5C;\n",
              "    box-shadow: 0px 1px 3px 1px rgba(0, 0, 0, 0.15);\n",
              "    filter: drop-shadow(0px 1px 2px rgba(0, 0, 0, 0.3));\n",
              "    fill: #FFFFFF;\n",
              "  }\n",
              "</style>\n",
              "\n",
              "    <script>\n",
              "      async function quickchart(key) {\n",
              "        const containerElement = document.querySelector('#' + key);\n",
              "        const charts = await google.colab.kernel.invokeFunction(\n",
              "            'suggestCharts', [key], {});\n",
              "      }\n",
              "    </script>\n",
              "\n",
              "      <script>\n",
              "\n",
              "function displayQuickchartButton(domScope) {\n",
              "  let quickchartButtonEl =\n",
              "    domScope.querySelector('#df-7bc639ad-5006-44c8-8b84-866c5c2b2f04 button.colab-df-quickchart');\n",
              "  quickchartButtonEl.style.display =\n",
              "    google.colab.kernel.accessAllowed ? 'block' : 'none';\n",
              "}\n",
              "\n",
              "        displayQuickchartButton(document);\n",
              "      </script>\n",
              "      <style>\n",
              "    .colab-df-container {\n",
              "      display:flex;\n",
              "      flex-wrap:wrap;\n",
              "      gap: 12px;\n",
              "    }\n",
              "\n",
              "    .colab-df-convert {\n",
              "      background-color: #E8F0FE;\n",
              "      border: none;\n",
              "      border-radius: 50%;\n",
              "      cursor: pointer;\n",
              "      display: none;\n",
              "      fill: #1967D2;\n",
              "      height: 32px;\n",
              "      padding: 0 0 0 0;\n",
              "      width: 32px;\n",
              "    }\n",
              "\n",
              "    .colab-df-convert:hover {\n",
              "      background-color: #E2EBFA;\n",
              "      box-shadow: 0px 1px 2px rgba(60, 64, 67, 0.3), 0px 1px 3px 1px rgba(60, 64, 67, 0.15);\n",
              "      fill: #174EA6;\n",
              "    }\n",
              "\n",
              "    [theme=dark] .colab-df-convert {\n",
              "      background-color: #3B4455;\n",
              "      fill: #D2E3FC;\n",
              "    }\n",
              "\n",
              "    [theme=dark] .colab-df-convert:hover {\n",
              "      background-color: #434B5C;\n",
              "      box-shadow: 0px 1px 3px 1px rgba(0, 0, 0, 0.15);\n",
              "      filter: drop-shadow(0px 1px 2px rgba(0, 0, 0, 0.3));\n",
              "      fill: #FFFFFF;\n",
              "    }\n",
              "  </style>\n",
              "\n",
              "      <script>\n",
              "        const buttonEl =\n",
              "          document.querySelector('#df-ded817b4-1998-4cbe-b1e6-1a596b952f10 button.colab-df-convert');\n",
              "        buttonEl.style.display =\n",
              "          google.colab.kernel.accessAllowed ? 'block' : 'none';\n",
              "\n",
              "        async function convertToInteractive(key) {\n",
              "          const element = document.querySelector('#df-ded817b4-1998-4cbe-b1e6-1a596b952f10');\n",
              "          const dataTable =\n",
              "            await google.colab.kernel.invokeFunction('convertToInteractive',\n",
              "                                                     [key], {});\n",
              "          if (!dataTable) return;\n",
              "\n",
              "          const docLinkHtml = 'Like what you see? Visit the ' +\n",
              "            '<a target=\"_blank\" href=https://colab.research.google.com/notebooks/data_table.ipynb>data table notebook</a>'\n",
              "            + ' to learn more about interactive tables.';\n",
              "          element.innerHTML = '';\n",
              "          dataTable['output_type'] = 'display_data';\n",
              "          await google.colab.output.renderOutput(dataTable, element);\n",
              "          const docLink = document.createElement('div');\n",
              "          docLink.innerHTML = docLinkHtml;\n",
              "          element.appendChild(docLink);\n",
              "        }\n",
              "      </script>\n",
              "    </div>\n",
              "  </div>\n"
            ]
          },
          "metadata": {},
          "execution_count": 132
        }
      ]
    },
    {
      "cell_type": "code",
      "source": [
        "print(\"dimension of sparcs data: {}\".format(sparcs.shape))"
      ],
      "metadata": {
        "colab": {
          "base_uri": "https://localhost:8080/"
        },
        "id": "e95RpQ_eTJMT",
        "outputId": "7ae6cd4d-263e-4c51-80ab-6b92a4080549"
      },
      "execution_count": null,
      "outputs": [
        {
          "output_type": "stream",
          "name": "stdout",
          "text": [
            "dimension of sparcs data: (19999, 11)\n"
          ]
        }
      ]
    },
    {
      "cell_type": "code",
      "source": [
        "sparcs.isnull().sum()"
      ],
      "metadata": {
        "colab": {
          "base_uri": "https://localhost:8080/"
        },
        "id": "Ce7yq7XoTKdU",
        "outputId": "28e46833-0c2f-4b18-becf-cbd72bace2af"
      },
      "execution_count": null,
      "outputs": [
        {
          "output_type": "execute_result",
          "data": {
            "text/plain": [
              "Health Service Area             5\n",
              "Operating Certificate Number    5\n",
              "Facility ID                     5\n",
              "Age Group                       0\n",
              "Length of Stay                  0\n",
              "Type of Admission               0\n",
              "Patient Disposition             4\n",
              "CCS Procedure Description       0\n",
              "APR Severity of Illness Code    0\n",
              "APR Risk of Mortality           3\n",
              "Source of Payment 1             0\n",
              "dtype: int64"
            ]
          },
          "metadata": {},
          "execution_count": 134
        }
      ]
    },
    {
      "cell_type": "code",
      "source": [
        "sparcs = sparcs.dropna(subset=['Health Service Area', 'APR Risk of Mortality','Facility ID','Patient Disposition'])"
      ],
      "metadata": {
        "id": "RHtl3U-kTQr0"
      },
      "execution_count": null,
      "outputs": []
    },
    {
      "cell_type": "code",
      "source": [
        "print(sparcs.groupby('APR Severity of Illness Code').size())"
      ],
      "metadata": {
        "colab": {
          "base_uri": "https://localhost:8080/"
        },
        "id": "wo4oDaNzTR3c",
        "outputId": "0603e653-d1e2-4d10-f553-be1a42dcb11f"
      },
      "execution_count": null,
      "outputs": [
        {
          "output_type": "stream",
          "name": "stdout",
          "text": [
            "APR Severity of Illness Code\n",
            "1    14192\n",
            "2     4206\n",
            "3     1327\n",
            "4      262\n",
            "dtype: int64\n"
          ]
        }
      ]
    },
    {
      "cell_type": "code",
      "source": [
        "import seaborn as sns\n",
        "\n",
        "sns.countplot(sparcs['APR Severity of Illness Code'],label=\"Count\")"
      ],
      "metadata": {
        "colab": {
          "base_uri": "https://localhost:8080/",
          "height": 447
        },
        "id": "SJz17cJ2TTh8",
        "outputId": "f78f0f79-90a2-475b-ed5b-6f3cca6a2a39"
      },
      "execution_count": null,
      "outputs": [
        {
          "output_type": "execute_result",
          "data": {
            "text/plain": [
              "<Axes: ylabel='count'>"
            ]
          },
          "metadata": {},
          "execution_count": 137
        },
        {
          "output_type": "display_data",
          "data": {
            "text/plain": [
              "<Figure size 640x480 with 1 Axes>"
            ],
            "image/png": "[encoded data removed]"
          },
          "metadata": {}
        }
      ]
    },
    {
      "cell_type": "code",
      "source": [
        "sparcs.info()"
      ],
      "metadata": {
        "colab": {
          "base_uri": "https://localhost:8080/"
        },
        "id": "yPNhvwT8TWvU",
        "outputId": "6f2cabea-afa0-4d11-eb11-ba3d55cdaa81"
      },
      "execution_count": null,
      "outputs": [
        {
          "output_type": "stream",
          "name": "stdout",
          "text": [
            "<class 'pandas.core.frame.DataFrame'>\n",
            "Int64Index: 19987 entries, 0 to 19998\n",
            "Data columns (total 11 columns):\n",
            " #   Column                        Non-Null Count  Dtype  \n",
            "---  ------                        --------------  -----  \n",
            " 0   Health Service Area           19987 non-null  object \n",
            " 1   Operating Certificate Number  19987 non-null  float64\n",
            " 2   Facility ID                   19987 non-null  float64\n",
            " 3   Age Group                     19987 non-null  object \n",
            " 4   Length of Stay                19987 non-null  object \n",
            " 5   Type of Admission             19987 non-null  object \n",
            " 6   Patient Disposition           19987 non-null  object \n",
            " 7   CCS Procedure Description     19987 non-null  object \n",
            " 8   APR Severity of Illness Code  19987 non-null  int64  \n",
            " 9   APR Risk of Mortality         19987 non-null  object \n",
            " 10  Source of Payment 1           19987 non-null  object \n",
            "dtypes: float64(2), int64(1), object(8)\n",
            "memory usage: 2.3+ MB\n"
          ]
        }
      ]
    },
    {
      "cell_type": "code",
      "source": [
        "sparcs.apply(lambda cols : cols.unique() )"
      ],
      "metadata": {
        "colab": {
          "base_uri": "https://localhost:8080/"
        },
        "id": "lm4qyFXDTatr",
        "outputId": "5a79a15d-f4a6-494a-9c61-b10efd86197a"
      },
      "execution_count": null,
      "outputs": [
        {
          "output_type": "execute_result",
          "data": {
            "text/plain": [
              "Health Service Area             [New York City, Southern Tier, Hudson Valley, ...\n",
              "Operating Certificate Number    [7002054.0, 5401001.0, 7000014.0, 7001017.0, 7...\n",
              "Facility ID                     [1458.0, 1464.0, 977.0, 1176.0, 1302.0, 1306.0...\n",
              "Age Group                       [0 to 17, 18 to 29, 30 to 49, 70 or Older, 50 ...\n",
              "Length of Stay                  [2, 4, 3, 15, 1, 35, 5, 8, 6, 16, 7, 23, 11, 2...\n",
              "Type of Admission               [Newborn, Emergency, Elective, Urgent, Not Ava...\n",
              "Patient Disposition             [Home or Self Care, Cancer Center or Children'...\n",
              "CCS Procedure Description       [CIRCUMCISION, RESP INTUB/MECH VENTIL, OPHTHAL...\n",
              "APR Severity of Illness Code                                         [1, 2, 3, 4]\n",
              "APR Risk of Mortality                           [Minor, Major, Moderate, Extreme]\n",
              "Source of Payment 1             [Insurance Company, Blue Cross, Self-Pay, Medi...\n",
              "dtype: object"
            ]
          },
          "metadata": {},
          "execution_count": 139
        }
      ]
    },
    {
      "cell_type": "code",
      "source": [
        "sparcs[sparcs['Health Service Area']=='nan']"
      ],
      "metadata": {
        "colab": {
          "base_uri": "https://localhost:8080/",
          "height": 111
        },
        "id": "3z2Z7Z5RTctE",
        "outputId": "9759b107-97d7-40ec-f357-7f2b6c5bf49e"
      },
      "execution_count": null,
      "outputs": [
        {
          "output_type": "execute_result",
          "data": {
            "text/plain": [
              "Empty DataFrame\n",
              "Columns: [Health Service Area, Operating Certificate Number, Facility ID, Age Group, Length of Stay, Type of Admission, Patient Disposition, CCS Procedure Description, APR Severity of Illness Code, APR Risk of Mortality, Source of Payment 1]\n",
              "Index: []"
            ],
            "text/html": [
              "\n",
              "\n",
              "  <div id=\"df-2e03828f-73b2-4beb-9ba5-40cc1af18d08\">\n",
              "    <div class=\"colab-df-container\">\n",
              "      <div>\n",
              "<style scoped>\n",
              "    .dataframe tbody tr th:only-of-type {\n",
              "        vertical-align: middle;\n",
              "    }\n",
              "\n",
              "    .dataframe tbody tr th {\n",
              "        vertical-align: top;\n",
              "    }\n",
              "\n",
              "    .dataframe thead th {\n",
              "        text-align: right;\n",
              "    }\n",
              "</style>\n",
              "<table border=\"1\" class=\"dataframe\">\n",
              "  <thead>\n",
              "    <tr style=\"text-align: right;\">\n",
              "      <th></th>\n",
              "      <th>Health Service Area</th>\n",
              "      <th>Operating Certificate Number</th>\n",
              "      <th>Facility ID</th>\n",
              "      <th>Age Group</th>\n",
              "      <th>Length of Stay</th>\n",
              "      <th>Type of Admission</th>\n",
              "      <th>Patient Disposition</th>\n",
              "      <th>CCS Procedure Description</th>\n",
              "      <th>APR Severity of Illness Code</th>\n",
              "      <th>APR Risk of Mortality</th>\n",
              "      <th>Source of Payment 1</th>\n",
              "    </tr>\n",
              "  </thead>\n",
              "  <tbody>\n",
              "  </tbody>\n",
              "</table>\n",
              "</div>\n",
              "      <button class=\"colab-df-convert\" onclick=\"convertToInteractive('df-2e03828f-73b2-4beb-9ba5-40cc1af18d08')\"\n",
              "              title=\"Convert this dataframe to an interactive table.\"\n",
              "              style=\"display:none;\">\n",
              "\n",
              "  <svg xmlns=\"http://www.w3.org/2000/svg\" height=\"24px\"viewBox=\"0 0 24 24\"\n",
              "       width=\"24px\">\n",
              "    <path d=\"M0 0h24v24H0V0z\" fill=\"none\"/>\n",
              "    <path d=\"M18.56 5.44l.94 2.06.94-2.06 2.06-.94-2.06-.94-.94-2.06-.94 2.06-2.06.94zm-11 1L8.5 8.5l.94-2.06 2.06-.94-2.06-.94L8.5 2.5l-.94 2.06-2.06.94zm10 10l.94 2.06.94-2.06 2.06-.94-2.06-.94-.94-2.06-.94 2.06-2.06.94z\"/><path d=\"M17.41 7.96l-1.37-1.37c-.4-.4-.92-.59-1.43-.59-.52 0-1.04.2-1.43.59L10.3 9.45l-7.72 7.72c-.78.78-.78 2.05 0 2.83L4 21.41c.39.39.9.59 1.41.59.51 0 1.02-.2 1.41-.59l7.78-7.78 2.81-2.81c.8-.78.8-2.07 0-2.86zM5.41 20L4 18.59l7.72-7.72 1.47 1.35L5.41 20z\"/>\n",
              "  </svg>\n",
              "      </button>\n",
              "\n",
              "\n",
              "\n",
              "    <div id=\"df-9a067c9b-b3ec-4b41-8e0d-7253efee6f5b\">\n",
              "      <button class=\"colab-df-quickchart\" onclick=\"quickchart('df-9a067c9b-b3ec-4b41-8e0d-7253efee6f5b')\"\n",
              "              title=\"Suggest charts.\"\n",
              "              style=\"display:none;\">\n",
              "\n",
              "<svg xmlns=\"http://www.w3.org/2000/svg\" height=\"24px\"viewBox=\"0 0 24 24\"\n",
              "     width=\"24px\">\n",
              "    <g>\n",
              "        <path d=\"M19 3H5c-1.1 0-2 .9-2 2v14c0 1.1.9 2 2 2h14c1.1 0 2-.9 2-2V5c0-1.1-.9-2-2-2zM9 17H7v-7h2v7zm4 0h-2V7h2v10zm4 0h-2v-4h2v4z\"/>\n",
              "    </g>\n",
              "</svg>\n",
              "      </button>\n",
              "    </div>\n",
              "\n",
              "<style>\n",
              "  .colab-df-quickchart {\n",
              "    background-color: #E8F0FE;\n",
              "    border: none;\n",
              "    border-radius: 50%;\n",
              "    cursor: pointer;\n",
              "    display: none;\n",
              "    fill: #1967D2;\n",
              "    height: 32px;\n",
              "    padding: 0 0 0 0;\n",
              "    width: 32px;\n",
              "  }\n",
              "\n",
              "  .colab-df-quickchart:hover {\n",
              "    background-color: #E2EBFA;\n",
              "    box-shadow: 0px 1px 2px rgba(60, 64, 67, 0.3), 0px 1px 3px 1px rgba(60, 64, 67, 0.15);\n",
              "    fill: #174EA6;\n",
              "  }\n",
              "\n",
              "  [theme=dark] .colab-df-quickchart {\n",
              "    background-color: #3B4455;\n",
              "    fill: #D2E3FC;\n",
              "  }\n",
              "\n",
              "  [theme=dark] .colab-df-quickchart:hover {\n",
              "    background-color: #434B5C;\n",
              "    box-shadow: 0px 1px 3px 1px rgba(0, 0, 0, 0.15);\n",
              "    filter: drop-shadow(0px 1px 2px rgba(0, 0, 0, 0.3));\n",
              "    fill: #FFFFFF;\n",
              "  }\n",
              "</style>\n",
              "\n",
              "    <script>\n",
              "      async function quickchart(key) {\n",
              "        const containerElement = document.querySelector('#' + key);\n",
              "        const charts = await google.colab.kernel.invokeFunction(\n",
              "            'suggestCharts', [key], {});\n",
              "      }\n",
              "    </script>\n",
              "\n",
              "      <script>\n",
              "\n",
              "function displayQuickchartButton(domScope) {\n",
              "  let quickchartButtonEl =\n",
              "    domScope.querySelector('#df-9a067c9b-b3ec-4b41-8e0d-7253efee6f5b button.colab-df-quickchart');\n",
              "  quickchartButtonEl.style.display =\n",
              "    google.colab.kernel.accessAllowed ? 'block' : 'none';\n",
              "}\n",
              "\n",
              "        displayQuickchartButton(document);\n",
              "      </script>\n",
              "      <style>\n",
              "    .colab-df-container {\n",
              "      display:flex;\n",
              "      flex-wrap:wrap;\n",
              "      gap: 12px;\n",
              "    }\n",
              "\n",
              "    .colab-df-convert {\n",
              "      background-color: #E8F0FE;\n",
              "      border: none;\n",
              "      border-radius: 50%;\n",
              "      cursor: pointer;\n",
              "      display: none;\n",
              "      fill: #1967D2;\n",
              "      height: 32px;\n",
              "      padding: 0 0 0 0;\n",
              "      width: 32px;\n",
              "    }\n",
              "\n",
              "    .colab-df-convert:hover {\n",
              "      background-color: #E2EBFA;\n",
              "      box-shadow: 0px 1px 2px rgba(60, 64, 67, 0.3), 0px 1px 3px 1px rgba(60, 64, 67, 0.15);\n",
              "      fill: #174EA6;\n",
              "    }\n",
              "\n",
              "    [theme=dark] .colab-df-convert {\n",
              "      background-color: #3B4455;\n",
              "      fill: #D2E3FC;\n",
              "    }\n",
              "\n",
              "    [theme=dark] .colab-df-convert:hover {\n",
              "      background-color: #434B5C;\n",
              "      box-shadow: 0px 1px 3px 1px rgba(0, 0, 0, 0.15);\n",
              "      filter: drop-shadow(0px 1px 2px rgba(0, 0, 0, 0.3));\n",
              "      fill: #FFFFFF;\n",
              "    }\n",
              "  </style>\n",
              "\n",
              "      <script>\n",
              "        const buttonEl =\n",
              "          document.querySelector('#df-2e03828f-73b2-4beb-9ba5-40cc1af18d08 button.colab-df-convert');\n",
              "        buttonEl.style.display =\n",
              "          google.colab.kernel.accessAllowed ? 'block' : 'none';\n",
              "\n",
              "        async function convertToInteractive(key) {\n",
              "          const element = document.querySelector('#df-2e03828f-73b2-4beb-9ba5-40cc1af18d08');\n",
              "          const dataTable =\n",
              "            await google.colab.kernel.invokeFunction('convertToInteractive',\n",
              "                                                     [key], {});\n",
              "          if (!dataTable) return;\n",
              "\n",
              "          const docLinkHtml = 'Like what you see? Visit the ' +\n",
              "            '<a target=\"_blank\" href=https://colab.research.google.com/notebooks/data_table.ipynb>data table notebook</a>'\n",
              "            + ' to learn more about interactive tables.';\n",
              "          element.innerHTML = '';\n",
              "          dataTable['output_type'] = 'display_data';\n",
              "          await google.colab.output.renderOutput(dataTable, element);\n",
              "          const docLink = document.createElement('div');\n",
              "          docLink.innerHTML = docLinkHtml;\n",
              "          element.appendChild(docLink);\n",
              "        }\n",
              "      </script>\n",
              "    </div>\n",
              "  </div>\n"
            ]
          },
          "metadata": {},
          "execution_count": 140
        }
      ]
    },
    {
      "cell_type": "code",
      "source": [
        "from sklearn.preprocessing import LabelEncoder\n",
        "le= LabelEncoder()\n",
        "sparcs[\"Type of Admission\"]=le.fit_transform(sparcs[\"Type of Admission\"])"
      ],
      "metadata": {
        "id": "phnUS_EvTeSD"
      },
      "execution_count": null,
      "outputs": []
    },
    {
      "cell_type": "code",
      "source": [
        "(sparcs[\"Type of Admission\"])"
      ],
      "metadata": {
        "colab": {
          "base_uri": "https://localhost:8080/"
        },
        "id": "a1tEOXYkTftD",
        "outputId": "63d1faa2-446d-4326-c94f-c364d683f996"
      },
      "execution_count": null,
      "outputs": [
        {
          "output_type": "execute_result",
          "data": {
            "text/plain": [
              "0        2\n",
              "1        1\n",
              "2        2\n",
              "3        2\n",
              "4        1\n",
              "        ..\n",
              "19994    2\n",
              "19995    2\n",
              "19996    2\n",
              "19997    2\n",
              "19998    2\n",
              "Name: Type of Admission, Length: 19987, dtype: int64"
            ]
          },
          "metadata": {},
          "execution_count": 142
        }
      ]
    },
    {
      "cell_type": "code",
      "source": [
        "from sklearn.preprocessing import LabelEncoder\n",
        "le= LabelEncoder()\n",
        "sparcs[\"CCS Procedure Description\"]=le.fit_transform(sparcs[\"CCS Procedure Description\"])"
      ],
      "metadata": {
        "id": "6ACBU8aRThls"
      },
      "execution_count": null,
      "outputs": []
    },
    {
      "cell_type": "code",
      "source": [
        "sparcs[\"CCS Procedure Description\"]"
      ],
      "metadata": {
        "colab": {
          "base_uri": "https://localhost:8080/"
        },
        "id": "QWIZeeoCTkjr",
        "outputId": "96d7ec6b-07de-48a4-a595-53ec6c088306"
      },
      "execution_count": null,
      "outputs": [
        {
          "output_type": "execute_result",
          "data": {
            "text/plain": [
              "0         22\n",
              "1        171\n",
              "2         94\n",
              "3        163\n",
              "4         32\n",
              "        ... \n",
              "19994     94\n",
              "19995    154\n",
              "19996     94\n",
              "19997     94\n",
              "19998     94\n",
              "Name: CCS Procedure Description, Length: 19987, dtype: int64"
            ]
          },
          "metadata": {},
          "execution_count": 144
        }
      ]
    },
    {
      "cell_type": "code",
      "source": [
        "from sklearn.preprocessing import LabelEncoder\n",
        "le= LabelEncoder()\n",
        "sparcs[\"APR Risk of Mortality\"]=le.fit_transform(sparcs[\"APR Risk of Mortality\"])"
      ],
      "metadata": {
        "id": "1HTOTXbITml7"
      },
      "execution_count": null,
      "outputs": []
    },
    {
      "cell_type": "code",
      "source": [
        "sparcs[\"APR Risk of Mortality\"]"
      ],
      "metadata": {
        "colab": {
          "base_uri": "https://localhost:8080/"
        },
        "id": "cRJaGj1vTn3k",
        "outputId": "bab70a24-960c-4204-b1b2-8881317ff9c7"
      },
      "execution_count": null,
      "outputs": [
        {
          "output_type": "execute_result",
          "data": {
            "text/plain": [
              "0        2\n",
              "1        1\n",
              "2        2\n",
              "3        2\n",
              "4        2\n",
              "        ..\n",
              "19994    2\n",
              "19995    2\n",
              "19996    2\n",
              "19997    2\n",
              "19998    2\n",
              "Name: APR Risk of Mortality, Length: 19987, dtype: int64"
            ]
          },
          "metadata": {},
          "execution_count": 146
        }
      ]
    },
    {
      "cell_type": "code",
      "source": [
        "from sklearn.preprocessing import LabelEncoder\n",
        "le= LabelEncoder()\n",
        "sparcs[\"Health Service Area\"]=le.fit_transform(sparcs[\"Health Service Area\"])"
      ],
      "metadata": {
        "id": "p1LSuZ71TqEd"
      },
      "execution_count": null,
      "outputs": []
    },
    {
      "cell_type": "code",
      "source": [
        "sparcs[\"Health Service Area\"]"
      ],
      "metadata": {
        "colab": {
          "base_uri": "https://localhost:8080/"
        },
        "id": "dmdvYQzDTrSN",
        "outputId": "af8dd491-9211-4341-d89a-f53dc11714b4"
      },
      "execution_count": null,
      "outputs": [
        {
          "output_type": "execute_result",
          "data": {
            "text/plain": [
              "0        4\n",
              "1        4\n",
              "2        4\n",
              "3        5\n",
              "4        4\n",
              "        ..\n",
              "19994    4\n",
              "19995    4\n",
              "19996    4\n",
              "19997    4\n",
              "19998    4\n",
              "Name: Health Service Area, Length: 19987, dtype: int64"
            ]
          },
          "metadata": {},
          "execution_count": 148
        }
      ]
    },
    {
      "cell_type": "code",
      "source": [
        "from sklearn.preprocessing import LabelEncoder\n",
        "le= LabelEncoder()\n",
        "sparcs[\"Age Group\"]=le.fit_transform(sparcs[\"Age Group\"])"
      ],
      "metadata": {
        "id": "EPCTL9hfTs17"
      },
      "execution_count": null,
      "outputs": []
    },
    {
      "cell_type": "code",
      "source": [
        "sparcs[\"Age Group\"]"
      ],
      "metadata": {
        "colab": {
          "base_uri": "https://localhost:8080/"
        },
        "id": "J6XRIr7ETuCr",
        "outputId": "68ccea91-ea0e-4596-a35d-cf838e5368d2"
      },
      "execution_count": null,
      "outputs": [
        {
          "output_type": "execute_result",
          "data": {
            "text/plain": [
              "0        0\n",
              "1        0\n",
              "2        0\n",
              "3        0\n",
              "4        0\n",
              "        ..\n",
              "19994    0\n",
              "19995    0\n",
              "19996    0\n",
              "19997    0\n",
              "19998    0\n",
              "Name: Age Group, Length: 19987, dtype: int64"
            ]
          },
          "metadata": {},
          "execution_count": 150
        }
      ]
    },
    {
      "cell_type": "code",
      "source": [
        "from sklearn.preprocessing import LabelEncoder\n",
        "le= LabelEncoder()\n",
        "sparcs[\"Length of Stay\"]=le.fit_transform(sparcs[\"Length of Stay\"])"
      ],
      "metadata": {
        "id": "hsZuEnA6Tu3L"
      },
      "execution_count": null,
      "outputs": []
    },
    {
      "cell_type": "code",
      "source": [
        "sparcs[\"Length of Stay\"]"
      ],
      "metadata": {
        "colab": {
          "base_uri": "https://localhost:8080/"
        },
        "id": "EYW5jTOLTxo0",
        "outputId": "2152c2af-b2ce-43b4-a865-8997a87fcd4a"
      },
      "execution_count": null,
      "outputs": [
        {
          "output_type": "execute_result",
          "data": {
            "text/plain": [
              "0        20\n",
              "1        42\n",
              "2        20\n",
              "3        20\n",
              "4        31\n",
              "         ..\n",
              "19994    42\n",
              "19995    20\n",
              "19996    20\n",
              "19997    20\n",
              "19998     0\n",
              "Name: Length of Stay, Length: 19987, dtype: int64"
            ]
          },
          "metadata": {},
          "execution_count": 152
        }
      ]
    },
    {
      "cell_type": "code",
      "source": [
        "from sklearn.preprocessing import LabelEncoder\n",
        "le= LabelEncoder()\n",
        "sparcs[\"Patient Disposition\"]=le.fit_transform(sparcs[\"Patient Disposition\"])"
      ],
      "metadata": {
        "id": "yIVAoWzyTzUr"
      },
      "execution_count": null,
      "outputs": []
    },
    {
      "cell_type": "code",
      "source": [
        "sparcs[\"Patient Disposition\"]"
      ],
      "metadata": {
        "colab": {
          "base_uri": "https://localhost:8080/"
        },
        "id": "SZF2rft1T2AU",
        "outputId": "16367ba5-f611-4397-a5a2-473cecd23139"
      },
      "execution_count": null,
      "outputs": [
        {
          "output_type": "execute_result",
          "data": {
            "text/plain": [
              "0        5\n",
              "1        1\n",
              "2        5\n",
              "3        5\n",
              "4        5\n",
              "        ..\n",
              "19994    5\n",
              "19995    5\n",
              "19996    5\n",
              "19997    5\n",
              "19998    5\n",
              "Name: Patient Disposition, Length: 19987, dtype: int64"
            ]
          },
          "metadata": {},
          "execution_count": 154
        }
      ]
    },
    {
      "cell_type": "code",
      "source": [
        "from sklearn.preprocessing import LabelEncoder\n",
        "le= LabelEncoder()\n",
        "sparcs[\"Source of Payment 1\"]=le.fit_transform(sparcs[\"Source of Payment 1\"])"
      ],
      "metadata": {
        "id": "_KrKFc8nT3ht"
      },
      "execution_count": null,
      "outputs": []
    },
    {
      "cell_type": "code",
      "source": [
        "sparcs[\"Source of Payment 1\"]"
      ],
      "metadata": {
        "colab": {
          "base_uri": "https://localhost:8080/"
        },
        "id": "nd3eiPaST6J0",
        "outputId": "ab34c461-b0eb-45e1-bc4c-c97c10d7d1a1"
      },
      "execution_count": null,
      "outputs": [
        {
          "output_type": "execute_result",
          "data": {
            "text/plain": [
              "0        2\n",
              "1        2\n",
              "2        0\n",
              "3        0\n",
              "4        7\n",
              "        ..\n",
              "19994    2\n",
              "19995    0\n",
              "19996    2\n",
              "19997    2\n",
              "19998    2\n",
              "Name: Source of Payment 1, Length: 19987, dtype: int64"
            ]
          },
          "metadata": {},
          "execution_count": 156
        }
      ]
    },
    {
      "cell_type": "code",
      "source": [
        "X = sparcs.drop(['Type of Admission'],axis = 1)\n",
        "y = sparcs['Type of Admission']"
      ],
      "metadata": {
        "id": "B45UFc8ZT7bN"
      },
      "execution_count": null,
      "outputs": []
    },
    {
      "cell_type": "code",
      "source": [
        "from sklearn.model_selection import train_test_split\n",
        "X_train,X_test,y_train,y_test = train_test_split(X,y,test_size = .2,random_state =42)\n",
        "X_train.shape"
      ],
      "metadata": {
        "colab": {
          "base_uri": "https://localhost:8080/"
        },
        "id": "Z1QP3oLST9eN",
        "outputId": "4c9b3506-fb96-4511-abc7-be8a84120051"
      },
      "execution_count": null,
      "outputs": [
        {
          "output_type": "execute_result",
          "data": {
            "text/plain": [
              "(15989, 10)"
            ]
          },
          "metadata": {},
          "execution_count": 158
        }
      ]
    },
    {
      "cell_type": "code",
      "source": [
        "y_train.head()"
      ],
      "metadata": {
        "colab": {
          "base_uri": "https://localhost:8080/"
        },
        "id": "SKgkm9a4T_tV",
        "outputId": "fda11aa5-86ad-494b-d73c-83ed9966de92"
      },
      "execution_count": null,
      "outputs": [
        {
          "output_type": "execute_result",
          "data": {
            "text/plain": [
              "16811    2\n",
              "12671    1\n",
              "842      1\n",
              "6073     2\n",
              "7768     2\n",
              "Name: Type of Admission, dtype: int64"
            ]
          },
          "metadata": {},
          "execution_count": 159
        }
      ]
    },
    {
      "cell_type": "markdown",
      "source": [
        "## LOGISTIC REGRESSION"
      ],
      "metadata": {
        "id": "SCVt02beUB2d"
      }
    },
    {
      "cell_type": "code",
      "source": [
        "from sklearn.linear_model import LogisticRegression\n",
        "logmodel = LogisticRegression()"
      ],
      "metadata": {
        "id": "cLHKyM3vUF70"
      },
      "execution_count": null,
      "outputs": []
    },
    {
      "cell_type": "code",
      "source": [
        "logmodel.fit(X_train,y_train)"
      ],
      "metadata": {
        "colab": {
          "base_uri": "https://localhost:8080/",
          "height": 74
        },
        "id": "CuAWdMXrUIm2",
        "outputId": "1043811b-5f43-497c-e625-d53ec72525a1"
      },
      "execution_count": null,
      "outputs": [
        {
          "output_type": "execute_result",
          "data": {
            "text/plain": [
              "LogisticRegression()"
            ],
            "text/html": [
              "<style>#sk-container-id-2 {color: black;background-color: white;}#sk-container-id-2 pre{padding: 0;}#sk-container-id-2 div.sk-toggleable {background-color: white;}#sk-container-id-2 label.sk-toggleable__label {cursor: pointer;display: block;width: 100%;margin-bottom: 0;padding: 0.3em;box-sizing: border-box;text-align: center;}#sk-container-id-2 label.sk-toggleable__label-arrow:before {content: \"▸\";float: left;margin-right: 0.25em;color: #696969;}#sk-container-id-2 label.sk-toggleable__label-arrow:hover:before {color: black;}#sk-container-id-2 div.sk-estimator:hover label.sk-toggleable__label-arrow:before {color: black;}#sk-container-id-2 div.sk-toggleable__content {max-height: 0;max-width: 0;overflow: hidden;text-align: left;background-color: #f0f8ff;}#sk-container-id-2 div.sk-toggleable__content pre {margin: 0.2em;color: black;border-radius: 0.25em;background-color: #f0f8ff;}#sk-container-id-2 input.sk-toggleable__control:checked~div.sk-toggleable__content {max-height: 200px;max-width: 100%;overflow: auto;}#sk-container-id-2 input.sk-toggleable__control:checked~label.sk-toggleable__label-arrow:before {content: \"▾\";}#sk-container-id-2 div.sk-estimator input.sk-toggleable__control:checked~label.sk-toggleable__label {background-color: #d4ebff;}#sk-container-id-2 div.sk-label input.sk-toggleable__control:checked~label.sk-toggleable__label {background-color: #d4ebff;}#sk-container-id-2 input.sk-hidden--visually {border: 0;clip: rect(1px 1px 1px 1px);clip: rect(1px, 1px, 1px, 1px);height: 1px;margin: -1px;overflow: hidden;padding: 0;position: absolute;width: 1px;}#sk-container-id-2 div.sk-estimator {font-family: monospace;background-color: #f0f8ff;border: 1px dotted black;border-radius: 0.25em;box-sizing: border-box;margin-bottom: 0.5em;}#sk-container-id-2 div.sk-estimator:hover {background-color: #d4ebff;}#sk-container-id-2 div.sk-parallel-item::after {content: \"\";width: 100%;border-bottom: 1px solid gray;flex-grow: 1;}#sk-container-id-2 div.sk-label:hover label.sk-toggleable__label {background-color: #d4ebff;}#sk-container-id-2 div.sk-serial::before {content: \"\";position: absolute;border-left: 1px solid gray;box-sizing: border-box;top: 0;bottom: 0;left: 50%;z-index: 0;}#sk-container-id-2 div.sk-serial {display: flex;flex-direction: column;align-items: center;background-color: white;padding-right: 0.2em;padding-left: 0.2em;position: relative;}#sk-container-id-2 div.sk-item {position: relative;z-index: 1;}#sk-container-id-2 div.sk-parallel {display: flex;align-items: stretch;justify-content: center;background-color: white;position: relative;}#sk-container-id-2 div.sk-item::before, #sk-container-id-2 div.sk-parallel-item::before {content: \"\";position: absolute;border-left: 1px solid gray;box-sizing: border-box;top: 0;bottom: 0;left: 50%;z-index: -1;}#sk-container-id-2 div.sk-parallel-item {display: flex;flex-direction: column;z-index: 1;position: relative;background-color: white;}#sk-container-id-2 div.sk-parallel-item:first-child::after {align-self: flex-end;width: 50%;}#sk-container-id-2 div.sk-parallel-item:last-child::after {align-self: flex-start;width: 50%;}#sk-container-id-2 div.sk-parallel-item:only-child::after {width: 0;}#sk-container-id-2 div.sk-dashed-wrapped {border: 1px dashed gray;margin: 0 0.4em 0.5em 0.4em;box-sizing: border-box;padding-bottom: 0.4em;background-color: white;}#sk-container-id-2 div.sk-label label {font-family: monospace;font-weight: bold;display: inline-block;line-height: 1.2em;}#sk-container-id-2 div.sk-label-container {text-align: center;}#sk-container-id-2 div.sk-container {/* jupyter's `normalize.less` sets `[hidden] { display: none; }` but bootstrap.min.css set `[hidden] { display: none !important; }` so we also need the `!important` here to be able to override the default hidden behavior on the sphinx rendered scikit-learn.org. See: https://github.com/scikit-learn/scikit-learn/issues/21755 */display: inline-block !important;position: relative;}#sk-container-id-2 div.sk-text-repr-fallback {display: none;}</style><div id=\"sk-container-id-2\" class=\"sk-top-container\"><div class=\"sk-text-repr-fallback\"><pre>LogisticRegression()</pre><b>In a Jupyter environment, please rerun this cell to show the HTML representation or trust the notebook. <br />On GitHub, the HTML representation is unable to render, please try loading this page with nbviewer.org.</b></div><div class=\"sk-container\" hidden><div class=\"sk-item\"><div class=\"sk-estimator sk-toggleable\"><input class=\"sk-toggleable__control sk-hidden--visually\" id=\"sk-estimator-id-2\" type=\"checkbox\" checked><label for=\"sk-estimator-id-2\" class=\"sk-toggleable__label sk-toggleable__label-arrow\">LogisticRegression</label><div class=\"sk-toggleable__content\"><pre>LogisticRegression()</pre></div></div></div></div></div>"
            ]
          },
          "metadata": {},
          "execution_count": 161
        }
      ]
    },
    {
      "cell_type": "code",
      "source": [
        "y_pred =logmodel.predict(X_test)"
      ],
      "metadata": {
        "id": "BSYeZw95UJYl"
      },
      "execution_count": null,
      "outputs": []
    },
    {
      "cell_type": "code",
      "source": [
        "y_pred[:20]"
      ],
      "metadata": {
        "colab": {
          "base_uri": "https://localhost:8080/"
        },
        "id": "tX3GA_QuUMG0",
        "outputId": "d63f0da5-0416-4b29-f48d-725aa875e5bc"
      },
      "execution_count": null,
      "outputs": [
        {
          "output_type": "execute_result",
          "data": {
            "text/plain": [
              "array([2, 2, 2, 2, 2, 2, 2, 2, 2, 2, 2, 2, 2, 2, 2, 2, 2, 2, 2, 2])"
            ]
          },
          "metadata": {},
          "execution_count": 163
        }
      ]
    },
    {
      "cell_type": "code",
      "source": [
        "y_pred"
      ],
      "metadata": {
        "colab": {
          "base_uri": "https://localhost:8080/"
        },
        "id": "lYbmwqO7UNv1",
        "outputId": "c9f2a9fa-cc65-43e9-c75e-faf43676fd7c"
      },
      "execution_count": null,
      "outputs": [
        {
          "output_type": "execute_result",
          "data": {
            "text/plain": [
              "array([2, 2, 2, ..., 2, 2, 2])"
            ]
          },
          "metadata": {},
          "execution_count": 164
        }
      ]
    },
    {
      "cell_type": "code",
      "source": [
        "# calculate accuracy#\n",
        "print(\"Training set accuracy: {:.3f}\".format(logmodel.score(X_train, y_train)))\n",
        "print(\"Test set accuracy: {:.3f}\".format(logmodel.score(X_test, y_test)))"
      ],
      "metadata": {
        "colab": {
          "base_uri": "https://localhost:8080/"
        },
        "id": "llnbZPM5UPOd",
        "outputId": "acd194d8-e599-4535-a47e-4be594d941b4"
      },
      "execution_count": null,
      "outputs": [
        {
          "output_type": "stream",
          "name": "stdout",
          "text": [
            "Training set accuracy: 0.638\n",
            "Test set accuracy: 0.642\n"
          ]
        }
      ]
    },
    {
      "cell_type": "code",
      "source": [
        "from sklearn.metrics import confusion_matrix, classification_report"
      ],
      "metadata": {
        "id": "eV8L2r3DURH9"
      },
      "execution_count": null,
      "outputs": []
    },
    {
      "cell_type": "code",
      "source": [
        "confusion_matrix(y_test,y_pred)"
      ],
      "metadata": {
        "colab": {
          "base_uri": "https://localhost:8080/"
        },
        "id": "PbCrmEyHUSnd",
        "outputId": "c67a04a6-a345-41ca-e1e3-4d3bf1874864"
      },
      "execution_count": null,
      "outputs": [
        {
          "output_type": "execute_result",
          "data": {
            "text/plain": [
              "array([[   0,    0,  248,    0,    0],\n",
              "       [   0,    0, 1110,    0,    0],\n",
              "       [   0,    0, 2567,    0,    0],\n",
              "       [   0,    0,    1,    0,    0],\n",
              "       [   0,    0,   72,    0,    0]])"
            ]
          },
          "metadata": {},
          "execution_count": 167
        }
      ]
    },
    {
      "cell_type": "code",
      "source": [
        "print(classification_report(y_test,y_pred))"
      ],
      "metadata": {
        "colab": {
          "base_uri": "https://localhost:8080/"
        },
        "id": "6j7_RhvBUUIL",
        "outputId": "28bfb2fa-848e-46df-b7ab-6e7fa51283db"
      },
      "execution_count": null,
      "outputs": [
        {
          "output_type": "stream",
          "name": "stdout",
          "text": [
            "              precision    recall  f1-score   support\n",
            "\n",
            "           0       0.00      0.00      0.00       248\n",
            "           1       0.00      0.00      0.00      1110\n",
            "           2       0.64      1.00      0.78      2567\n",
            "           3       0.00      0.00      0.00         1\n",
            "           4       0.00      0.00      0.00        72\n",
            "\n",
            "    accuracy                           0.64      3998\n",
            "   macro avg       0.13      0.20      0.16      3998\n",
            "weighted avg       0.41      0.64      0.50      3998\n",
            "\n"
          ]
        },
        {
          "output_type": "stream",
          "name": "stderr",
          "text": [
            "/usr/local/lib/python3.10/dist-packages/sklearn/metrics/_classification.py:1344: UndefinedMetricWarning: Precision and F-score are ill-defined and being set to 0.0 in labels with no predicted samples. Use `zero_division` parameter to control this behavior.\n",
            "  _warn_prf(average, modifier, msg_start, len(result))\n",
            "/usr/local/lib/python3.10/dist-packages/sklearn/metrics/_classification.py:1344: UndefinedMetricWarning: Precision and F-score are ill-defined and being set to 0.0 in labels with no predicted samples. Use `zero_division` parameter to control this behavior.\n",
            "  _warn_prf(average, modifier, msg_start, len(result))\n",
            "/usr/local/lib/python3.10/dist-packages/sklearn/metrics/_classification.py:1344: UndefinedMetricWarning: Precision and F-score are ill-defined and being set to 0.0 in labels with no predicted samples. Use `zero_division` parameter to control this behavior.\n",
            "  _warn_prf(average, modifier, msg_start, len(result))\n"
          ]
        }
      ]
    },
    {
      "cell_type": "code",
      "source": [
        "from sklearn.metrics import mean_squared_error, r2_score\n",
        "print(\"Mean squared error: %.2f\\n\"\n",
        "     % mean_squared_error(y_test, y_pred))"
      ],
      "metadata": {
        "colab": {
          "base_uri": "https://localhost:8080/"
        },
        "id": "n9WMErM6UWDM",
        "outputId": "26f1e577-ca02-4900-b66d-06c8648d36a7"
      },
      "execution_count": null,
      "outputs": [
        {
          "output_type": "stream",
          "name": "stdout",
          "text": [
            "Mean squared error: 0.60\n",
            "\n"
          ]
        }
      ]
    },
    {
      "cell_type": "code",
      "source": [
        "from sklearn.tree import DecisionTreeClassifier\n",
        "\n",
        "tree = DecisionTreeClassifier(random_state=0)\n",
        "tree.fit(X_train, y_train)\n",
        "print(\"Accuracy on training set: {:.3f}\".format(tree.score(X_train, y_train)))\n",
        "print(\"Accuracy on test set: {:.3f}\".format(tree.score(X_test, y_test)))"
      ],
      "metadata": {
        "colab": {
          "base_uri": "https://localhost:8080/"
        },
        "id": "9uiVeNnRUX0m",
        "outputId": "b7179dc7-5be2-4e5b-9847-6953431134da"
      },
      "execution_count": null,
      "outputs": [
        {
          "output_type": "stream",
          "name": "stdout",
          "text": [
            "Accuracy on training set: 0.974\n",
            "Accuracy on test set: 0.885\n"
          ]
        }
      ]
    },
    {
      "cell_type": "code",
      "source": [
        "tree = DecisionTreeClassifier(max_depth=3, random_state=0)\n",
        "tree.fit(X_train, y_train)\n",
        "\n",
        "print(\"Accuracy on training set: {:.3f}\".format(tree.score(X_train, y_train)))\n",
        "print(\"Accuracy on test set: {:.3f}\".format(tree.score(X_test, y_test)))"
      ],
      "metadata": {
        "colab": {
          "base_uri": "https://localhost:8080/"
        },
        "id": "zZUs76ZnUam9",
        "outputId": "1c5bd3ef-8cc0-4241-9002-5606d4ec923b"
      },
      "execution_count": null,
      "outputs": [
        {
          "output_type": "stream",
          "name": "stdout",
          "text": [
            "Accuracy on training set: 0.714\n",
            "Accuracy on test set: 0.710\n"
          ]
        }
      ]
    },
    {
      "cell_type": "markdown",
      "source": [
        "## Features importance in Decision trees\n"
      ],
      "metadata": {
        "id": "Y6nHbMp2Uffk"
      }
    },
    {
      "cell_type": "code",
      "source": [
        "print(\"Feature importances:\\n{}\".format(tree.feature_importances_))"
      ],
      "metadata": {
        "colab": {
          "base_uri": "https://localhost:8080/"
        },
        "id": "kO4qlXUTUck7",
        "outputId": "7499653f-9320-4b4d-a529-62e23652790e"
      },
      "execution_count": null,
      "outputs": [
        {
          "output_type": "stream",
          "name": "stdout",
          "text": [
            "Feature importances:\n",
            "[0.         0.         0.09528553 0.2982054  0.34915472 0.\n",
            " 0.02096171 0.20877321 0.         0.02761942]\n"
          ]
        }
      ]
    },
    {
      "cell_type": "markdown",
      "source": [
        "## Random Forest\n"
      ],
      "metadata": {
        "id": "IJmSFoovUnAF"
      }
    },
    {
      "cell_type": "code",
      "source": [
        "from sklearn.ensemble import RandomForestClassifier\n",
        "rf = RandomForestClassifier(n_estimators=100, random_state=0)\n",
        "rf.fit(X_train, y_train)\n",
        "print(\"Accuracy on training set: {:.3f}\".format(rf.score(X_train, y_train)))\n",
        "print(\"Accuracy on test set: {:.3f}\".format(rf.score(X_test, y_test)))"
      ],
      "metadata": {
        "colab": {
          "base_uri": "https://localhost:8080/"
        },
        "id": "Nk97z6URUqL_",
        "outputId": "2a0b35f7-208c-4e34-e51b-4e4984d7a8a0"
      },
      "execution_count": null,
      "outputs": [
        {
          "output_type": "stream",
          "name": "stdout",
          "text": [
            "Accuracy on training set: 0.974\n",
            "Accuracy on test set: 0.895\n"
          ]
        }
      ]
    },
    {
      "cell_type": "code",
      "source": [
        "rf1 = RandomForestClassifier(max_depth=3, n_estimators=100, random_state=0)\n",
        "rf1.fit(X_train, y_train)\n",
        "print(\"Accuracy on training set: {:.3f}\".format(rf1.score(X_train, y_train)))\n",
        "print(\"Accuracy on test set: {:.3f}\".format(rf1.score(X_test, y_test)))"
      ],
      "metadata": {
        "colab": {
          "base_uri": "https://localhost:8080/"
        },
        "id": "7gM7nea0UuNs",
        "outputId": "0f1d617c-80c5-48b4-e423-c20e9533451b"
      },
      "execution_count": null,
      "outputs": [
        {
          "output_type": "stream",
          "name": "stdout",
          "text": [
            "Accuracy on training set: 0.718\n",
            "Accuracy on test set: 0.710\n"
          ]
        }
      ]
    },
    {
      "cell_type": "markdown",
      "source": [
        "## KNN"
      ],
      "metadata": {
        "id": "nZXv4ytTUwA1"
      }
    },
    {
      "cell_type": "code",
      "source": [
        "from sklearn.model_selection import train_test_split\n",
        "X_train, X_test, y_train, y_test = train_test_split(sparcs.loc[:, sparcs.columns != 'Type of Admission'], sparcs['Type of Admission'],\n",
        "                                                    stratify=sparcs['Type of Admission'], random_state=66)"
      ],
      "metadata": {
        "id": "IiL-htrPUvAe"
      },
      "execution_count": null,
      "outputs": []
    },
    {
      "cell_type": "code",
      "source": [
        "from sklearn.neighbors import KNeighborsClassifier\n",
        "\n",
        "training_accuracy = []\n",
        "test_accuracy = []\n",
        "# try n_neighbors from 1 to 10\n",
        "neighbors_settings = range(1, 11)\n",
        "\n",
        "for n_neighbors in neighbors_settings:\n",
        "    # build the model\n",
        "    knn = KNeighborsClassifier(n_neighbors=n_neighbors)\n",
        "    knn.fit(X_train, y_train)\n",
        "    # record training set accuracy\n",
        "    training_accuracy.append(knn.score(X_train, y_train))\n",
        "    # record test set accuracy\n",
        "    test_accuracy.append(knn.score(X_test, y_test))\n",
        "\n",
        "plt.plot(neighbors_settings, training_accuracy, label=\"training accuracy\")\n",
        "plt.plot(neighbors_settings, test_accuracy, label=\"test accuracy\")\n",
        "plt.ylabel(\"Accuracy\")\n",
        "plt.xlabel(\"n_neighbors\")\n",
        "plt.legend()\n",
        "plt.savefig('knn_compare_model')"
      ],
      "metadata": {
        "colab": {
          "base_uri": "https://localhost:8080/",
          "height": 450
        },
        "id": "E38siasqU5mL",
        "outputId": "bdd0f152-e05a-4647-b1b0-8fc0e3188a70"
      },
      "execution_count": null,
      "outputs": [
        {
          "output_type": "display_data",
          "data": {
            "text/plain": [
              "<Figure size 640x480 with 1 Axes>"
            ],
            "image/png": "[encoded data removed]"
          },
          "metadata": {}
        }
      ]
    },
    {
      "cell_type": "markdown",
      "source": [
        "## SVM = Support Vector Machine"
      ],
      "metadata": {
        "id": "zJj8J7TzVBQc"
      }
    },
    {
      "cell_type": "code",
      "source": [
        "from sklearn.svm import SVC\n",
        "\n",
        "svc = SVC()\n",
        "svc.fit(X_train, y_train)\n",
        "\n",
        "print(\"Accuracy on training set: {:.2f}\".format(svc.score(X_train, y_train)))\n",
        "print(\"Accuracy on test set: {:.2f}\".format(svc.score(X_test, y_test)))"
      ],
      "metadata": {
        "colab": {
          "base_uri": "https://localhost:8080/"
        },
        "id": "xw2BN_tAVA48",
        "outputId": "53cb1b9f-22a3-4ba7-d491-aa46c9b33c2a"
      },
      "execution_count": null,
      "outputs": [
        {
          "output_type": "stream",
          "name": "stdout",
          "text": [
            "Accuracy on training set: 0.64\n",
            "Accuracy on test set: 0.64\n"
          ]
        }
      ]
    },
    {
      "cell_type": "code",
      "source": [
        "from sklearn.preprocessing import MinMaxScaler\n",
        "\n",
        "scaler = MinMaxScaler()\n",
        "X_train_scaled = scaler.fit_transform(X_train)\n",
        "X_test_scaled = scaler.fit_transform(X_test)\n",
        "\n",
        "svc = SVC()\n",
        "svc.fit(X_train_scaled, y_train)\n",
        "\n",
        "print(\"Accuracy on training set: {:.2f}\".format(svc.score(X_train_scaled, y_train)))\n",
        "print(\"Accuracy on test set: {:.2f}\".format(svc.score(X_test_scaled, y_test)))"
      ],
      "metadata": {
        "colab": {
          "base_uri": "https://localhost:8080/"
        },
        "id": "bZmxbCnYVGEm",
        "outputId": "0c3fa17b-c39d-404c-fe3b-38bc5f0ec796"
      },
      "execution_count": null,
      "outputs": [
        {
          "output_type": "stream",
          "name": "stdout",
          "text": [
            "Accuracy on training set: 0.72\n",
            "Accuracy on test set: 0.72\n"
          ]
        }
      ]
    },
    {
      "cell_type": "code",
      "source": [
        "svc = SVC(C=1000)\n",
        "svc.fit(X_train_scaled, y_train)\n",
        "\n",
        "print(\"Accuracy on training set: {:.3f}\".format(\n",
        "    svc.score(X_train_scaled, y_train)))\n",
        "print(\"Accuracy on test set: {:.3f}\".format(svc.score(X_test_scaled, y_test)))"
      ],
      "metadata": {
        "colab": {
          "base_uri": "https://localhost:8080/"
        },
        "id": "5OopeBzRVHod",
        "outputId": "2b7f78d0-c46b-495d-c300-848f08551ae2"
      },
      "execution_count": null,
      "outputs": [
        {
          "output_type": "stream",
          "name": "stdout",
          "text": [
            "Accuracy on training set: 0.765\n",
            "Accuracy on test set: 0.702\n"
          ]
        }
      ]
    },
    {
      "cell_type": "markdown",
      "source": [
        "## Neural Network"
      ],
      "metadata": {
        "id": "IFIlC9gVVJLV"
      }
    },
    {
      "cell_type": "code",
      "source": [
        "from sklearn.model_selection import train_test_split\n",
        "X_train, X_test, y_train, y_test = train_test_split(X, y, test_size = 0.2, random_state = 47, stratify=y)"
      ],
      "metadata": {
        "id": "-FYHYFiYVI-V"
      },
      "execution_count": null,
      "outputs": []
    },
    {
      "cell_type": "code",
      "source": [
        "from sklearn.preprocessing import MinMaxScaler\n",
        "from sklearn.neural_network import MLPClassifier"
      ],
      "metadata": {
        "id": "oiBrfApZVRMl"
      },
      "execution_count": null,
      "outputs": []
    },
    {
      "cell_type": "code",
      "source": [
        "from sklearn.preprocessing import MinMaxScaler\n",
        "\n",
        "scaler = MinMaxScaler()\n",
        "X_train=scaler.fit_transform(X_train)\n",
        "x_test=scaler.transform(X_test)"
      ],
      "metadata": {
        "id": "nAL6iWMlVSWu"
      },
      "execution_count": null,
      "outputs": []
    },
    {
      "cell_type": "code",
      "source": [
        "(X_train.shape,y_train.shape)"
      ],
      "metadata": {
        "colab": {
          "base_uri": "https://localhost:8080/"
        },
        "id": "Ik1zBNSDVTlz",
        "outputId": "a87c2d10-d72f-49a5-8ece-769c38a2823a"
      },
      "execution_count": null,
      "outputs": [
        {
          "output_type": "execute_result",
          "data": {
            "text/plain": [
              "((15989, 10), (15989,))"
            ]
          },
          "metadata": {},
          "execution_count": 183
        }
      ]
    },
    {
      "cell_type": "code",
      "source": [
        "print(X_train)"
      ],
      "metadata": {
        "colab": {
          "base_uri": "https://localhost:8080/"
        },
        "id": "fh3NSA-NVUAU",
        "outputId": "56318d81-e2d5-4caf-cd4b-b1de4fbaac2d"
      },
      "execution_count": null,
      "outputs": [
        {
          "output_type": "stream",
          "name": "stdout",
          "text": [
            "[[0.66666667 0.99971665 0.36663312 ... 0.         0.66666667 0.        ]\n",
            " [0.66666667 0.99971346 0.3686462  ... 0.33333333 1.         0.25      ]\n",
            " [0.66666667 0.9997165  0.36789129 ... 0.         0.66666667 0.25      ]\n",
            " ...\n",
            " [0.66666667 0.99970897 0.3616004  ... 0.         0.66666667 0.25      ]\n",
            " [0.66666667 0.99971665 0.36663312 ... 0.33333333 0.66666667 0.        ]\n",
            " [0.66666667 0.99971418 0.36990438 ... 0.         0.66666667 0.25      ]]\n"
          ]
        }
      ]
    },
    {
      "cell_type": "code",
      "source": [
        "import tensorflow as tf\n",
        "from keras.models import Sequential # It is linear stack of layers)\n",
        "from keras.layers import Dense, Dropout, Conv2D, MaxPooling2D, Flatten\n",
        " #--------------> CHANGED THE OPTIMIZER<-------------------------\n",
        "from keras.optimizers import RMSprop\n",
        "opt = tf.keras.optimizers.RMSprop(learning_rate=0.08)"
      ],
      "metadata": {
        "id": "GfnbT-NZVoId"
      },
      "execution_count": null,
      "outputs": []
    },
    {
      "cell_type": "code",
      "source": [
        "model = tf.keras.Sequential([\n",
        "    tf.keras.layers.Dense(4, activation = 'relu', input_shape=(X_train.shape[1], )),   #\n",
        "    tf.keras.layers.Dense(1, activation = 'sigmoid')\n",
        "])\n",
        "\n",
        "model.summary()"
      ],
      "metadata": {
        "colab": {
          "base_uri": "https://localhost:8080/"
        },
        "id": "aIYiPETjVpem",
        "outputId": "41249c55-6e26-4ad1-afee-96117ec5cf6d"
      },
      "execution_count": null,
      "outputs": [
        {
          "output_type": "stream",
          "name": "stdout",
          "text": [
            "Model: \"sequential_18\"\n",
            "_________________________________________________________________\n",
            " Layer (type)                Output Shape              Param #   \n",
            "=================================================================\n",
            " dense_35 (Dense)            (None, 4)                 44        \n",
            "                                                                 \n",
            " dense_36 (Dense)            (None, 1)                 5         \n",
            "                                                                 \n",
            "=================================================================\n",
            "Total params: 49\n",
            "Trainable params: 49\n",
            "Non-trainable params: 0\n",
            "_________________________________________________________________\n"
          ]
        }
      ]
    },
    {
      "cell_type": "code",
      "source": [
        "model.variables"
      ],
      "metadata": {
        "colab": {
          "base_uri": "https://localhost:8080/"
        },
        "id": "AXVHZnenVr9T",
        "outputId": "2decd2ce-7c1b-49c5-95de-e71ae96bf65c"
      },
      "execution_count": null,
      "outputs": [
        {
          "output_type": "execute_result",
          "data": {
            "text/plain": [
              "[<tf.Variable 'dense_35/kernel:0' shape=(10, 4) dtype=float32, numpy=\n",
              " array([[ 0.5808945 , -0.43321368,  0.13551176,  0.50122917],\n",
              "        [-0.4336952 ,  0.21067488,  0.4985845 ,  0.57932484],\n",
              "        [ 0.2626655 , -0.01893753, -0.4022903 ,  0.608444  ],\n",
              "        [ 0.32455546,  0.10434973,  0.2653147 ,  0.2259261 ],\n",
              "        [-0.39889243, -0.52918434,  0.5687585 ,  0.34960544],\n",
              "        [ 0.4493481 ,  0.31551987,  0.24472737, -0.35073236],\n",
              "        [ 0.24954748,  0.6417061 ,  0.5810528 , -0.25249475],\n",
              "        [-0.54702836,  0.5083879 , -0.62204367, -0.1834118 ],\n",
              "        [-0.10068572,  0.49545765,  0.36997128, -0.0302583 ],\n",
              "        [ 0.60936415, -0.14616698,  0.25999576,  0.02863628]],\n",
              "       dtype=float32)>,\n",
              " <tf.Variable 'dense_35/bias:0' shape=(4,) dtype=float32, numpy=array([0., 0., 0., 0.], dtype=float32)>,\n",
              " <tf.Variable 'dense_36/kernel:0' shape=(4, 1) dtype=float32, numpy=\n",
              " array([[ 1.0102484 ],\n",
              "        [-0.8318068 ],\n",
              "        [ 0.10475397],\n",
              "        [ 0.21055913]], dtype=float32)>,\n",
              " <tf.Variable 'dense_36/bias:0' shape=(1,) dtype=float32, numpy=array([0.], dtype=float32)>]"
            ]
          },
          "metadata": {},
          "execution_count": 227
        }
      ]
    },
    {
      "cell_type": "code",
      "source": [
        "# Compiling the ANN\n",
        "# model.compile(optimizer='adam', loss='binary_crossentropy', metrics=['accuracy']) --------> ORIGINAL CODE\n",
        "model.compile(optimizer = opt ,loss = \"categorical_crossentropy\" , metrics=['accuracy'])    #---------> UPDATED CODE"
      ],
      "metadata": {
        "id": "pJKgwCSBVsmd"
      },
      "execution_count": null,
      "outputs": []
    },
    {
      "cell_type": "code",
      "source": [
        "# Fitting the ANN to the Training set\n",
        "history = model.fit(X_train, y_train, batch_size=32, epochs=50, validation_data=(X_test, y_test))"
      ],
      "metadata": {
        "colab": {
          "base_uri": "https://localhost:8080/"
        },
        "id": "Zo6jIyHaVumz",
        "outputId": "35b24687-2ce1-4904-ad54-f111797d1fbd"
      },
      "execution_count": null,
      "outputs": [
        {
          "output_type": "stream",
          "name": "stdout",
          "text": [
            "Epoch 1/50\n",
            "500/500 [==============================] - 2s 4ms/step - loss: 0.0000e+00 - accuracy: 0.2728 - val_loss: 0.0000e+00 - val_accuracy: 0.2729\n",
            "Epoch 2/50\n",
            "500/500 [==============================] - 2s 3ms/step - loss: 0.0000e+00 - accuracy: 0.2728 - val_loss: 0.0000e+00 - val_accuracy: 0.2729\n",
            "Epoch 3/50\n",
            "500/500 [==============================] - 1s 2ms/step - loss: 0.0000e+00 - accuracy: 0.2728 - val_loss: 0.0000e+00 - val_accuracy: 0.2729\n",
            "Epoch 4/50\n",
            "500/500 [==============================] - 1s 3ms/step - loss: 0.0000e+00 - accuracy: 0.2728 - val_loss: 0.0000e+00 - val_accuracy: 0.2729\n",
            "Epoch 5/50\n",
            "500/500 [==============================] - 1s 3ms/step - loss: 0.0000e+00 - accuracy: 0.2728 - val_loss: 0.0000e+00 - val_accuracy: 0.2729\n",
            "Epoch 6/50\n",
            "500/500 [==============================] - 1s 2ms/step - loss: 0.0000e+00 - accuracy: 0.2728 - val_loss: 0.0000e+00 - val_accuracy: 0.2729\n",
            "Epoch 7/50\n",
            "500/500 [==============================] - 1s 2ms/step - loss: 0.0000e+00 - accuracy: 0.2728 - val_loss: 0.0000e+00 - val_accuracy: 0.2729\n",
            "Epoch 8/50\n",
            "500/500 [==============================] - 1s 2ms/step - loss: 0.0000e+00 - accuracy: 0.2728 - val_loss: 0.0000e+00 - val_accuracy: 0.2729\n",
            "Epoch 9/50\n",
            "500/500 [==============================] - 1s 2ms/step - loss: 0.0000e+00 - accuracy: 0.2728 - val_loss: 0.0000e+00 - val_accuracy: 0.2729\n",
            "Epoch 10/50\n",
            "500/500 [==============================] - 1s 2ms/step - loss: 0.0000e+00 - accuracy: 0.2728 - val_loss: 0.0000e+00 - val_accuracy: 0.2729\n",
            "Epoch 11/50\n",
            "500/500 [==============================] - 1s 2ms/step - loss: 0.0000e+00 - accuracy: 0.2728 - val_loss: 0.0000e+00 - val_accuracy: 0.2729\n",
            "Epoch 12/50\n",
            "500/500 [==============================] - 1s 2ms/step - loss: 0.0000e+00 - accuracy: 0.2728 - val_loss: 0.0000e+00 - val_accuracy: 0.2729\n",
            "Epoch 13/50\n",
            "500/500 [==============================] - 1s 2ms/step - loss: 0.0000e+00 - accuracy: 0.2728 - val_loss: 0.0000e+00 - val_accuracy: 0.2729\n",
            "Epoch 14/50\n",
            "500/500 [==============================] - 1s 2ms/step - loss: 0.0000e+00 - accuracy: 0.2728 - val_loss: 0.0000e+00 - val_accuracy: 0.2729\n",
            "Epoch 15/50\n",
            "500/500 [==============================] - 1s 3ms/step - loss: 0.0000e+00 - accuracy: 0.2728 - val_loss: 0.0000e+00 - val_accuracy: 0.2729\n",
            "Epoch 16/50\n",
            "500/500 [==============================] - 2s 3ms/step - loss: 0.0000e+00 - accuracy: 0.2728 - val_loss: 0.0000e+00 - val_accuracy: 0.2729\n",
            "Epoch 17/50\n",
            "500/500 [==============================] - 1s 2ms/step - loss: 0.0000e+00 - accuracy: 0.2728 - val_loss: 0.0000e+00 - val_accuracy: 0.2729\n",
            "Epoch 18/50\n",
            "500/500 [==============================] - 1s 2ms/step - loss: 0.0000e+00 - accuracy: 0.2728 - val_loss: 0.0000e+00 - val_accuracy: 0.2729\n",
            "Epoch 19/50\n",
            "500/500 [==============================] - 1s 2ms/step - loss: 0.0000e+00 - accuracy: 0.2728 - val_loss: 0.0000e+00 - val_accuracy: 0.2729\n",
            "Epoch 20/50\n",
            "500/500 [==============================] - 1s 2ms/step - loss: 0.0000e+00 - accuracy: 0.2728 - val_loss: 0.0000e+00 - val_accuracy: 0.2729\n",
            "Epoch 21/50\n",
            "500/500 [==============================] - 1s 2ms/step - loss: 0.0000e+00 - accuracy: 0.2728 - val_loss: 0.0000e+00 - val_accuracy: 0.2729\n",
            "Epoch 22/50\n",
            "500/500 [==============================] - 1s 2ms/step - loss: 0.0000e+00 - accuracy: 0.2728 - val_loss: 0.0000e+00 - val_accuracy: 0.2729\n",
            "Epoch 23/50\n",
            "500/500 [==============================] - 1s 2ms/step - loss: 0.0000e+00 - accuracy: 0.2728 - val_loss: 0.0000e+00 - val_accuracy: 0.2729\n",
            "Epoch 24/50\n",
            "500/500 [==============================] - 1s 2ms/step - loss: 0.0000e+00 - accuracy: 0.2728 - val_loss: 0.0000e+00 - val_accuracy: 0.2729\n",
            "Epoch 25/50\n",
            "500/500 [==============================] - 1s 2ms/step - loss: 0.0000e+00 - accuracy: 0.2728 - val_loss: 0.0000e+00 - val_accuracy: 0.2729\n",
            "Epoch 26/50\n",
            "500/500 [==============================] - 1s 3ms/step - loss: 0.0000e+00 - accuracy: 0.2728 - val_loss: 0.0000e+00 - val_accuracy: 0.2729\n",
            "Epoch 27/50\n",
            "500/500 [==============================] - 1s 3ms/step - loss: 0.0000e+00 - accuracy: 0.2728 - val_loss: 0.0000e+00 - val_accuracy: 0.2729\n",
            "Epoch 28/50\n",
            "500/500 [==============================] - 1s 3ms/step - loss: 0.0000e+00 - accuracy: 0.2728 - val_loss: 0.0000e+00 - val_accuracy: 0.2729\n",
            "Epoch 29/50\n",
            "500/500 [==============================] - 1s 2ms/step - loss: 0.0000e+00 - accuracy: 0.2728 - val_loss: 0.0000e+00 - val_accuracy: 0.2729\n",
            "Epoch 30/50\n",
            "500/500 [==============================] - 1s 2ms/step - loss: 0.0000e+00 - accuracy: 0.2728 - val_loss: 0.0000e+00 - val_accuracy: 0.2729\n",
            "Epoch 31/50\n",
            "500/500 [==============================] - 1s 2ms/step - loss: 0.0000e+00 - accuracy: 0.2728 - val_loss: 0.0000e+00 - val_accuracy: 0.2729\n",
            "Epoch 32/50\n",
            "500/500 [==============================] - 1s 2ms/step - loss: 0.0000e+00 - accuracy: 0.2728 - val_loss: 0.0000e+00 - val_accuracy: 0.2729\n",
            "Epoch 33/50\n",
            "500/500 [==============================] - 1s 2ms/step - loss: 0.0000e+00 - accuracy: 0.2728 - val_loss: 0.0000e+00 - val_accuracy: 0.2729\n",
            "Epoch 34/50\n",
            "500/500 [==============================] - 1s 2ms/step - loss: 0.0000e+00 - accuracy: 0.2728 - val_loss: 0.0000e+00 - val_accuracy: 0.2729\n",
            "Epoch 35/50\n",
            "500/500 [==============================] - 1s 2ms/step - loss: 0.0000e+00 - accuracy: 0.2728 - val_loss: 0.0000e+00 - val_accuracy: 0.2729\n",
            "Epoch 36/50\n",
            "500/500 [==============================] - 1s 2ms/step - loss: 0.0000e+00 - accuracy: 0.2728 - val_loss: 0.0000e+00 - val_accuracy: 0.2729\n",
            "Epoch 37/50\n",
            "500/500 [==============================] - 1s 2ms/step - loss: 0.0000e+00 - accuracy: 0.2728 - val_loss: 0.0000e+00 - val_accuracy: 0.2729\n",
            "Epoch 38/50\n",
            "500/500 [==============================] - 1s 3ms/step - loss: 0.0000e+00 - accuracy: 0.2728 - val_loss: 0.0000e+00 - val_accuracy: 0.2729\n",
            "Epoch 39/50\n",
            "500/500 [==============================] - 1s 3ms/step - loss: 0.0000e+00 - accuracy: 0.2728 - val_loss: 0.0000e+00 - val_accuracy: 0.2729\n",
            "Epoch 40/50\n",
            "500/500 [==============================] - 1s 3ms/step - loss: 0.0000e+00 - accuracy: 0.2728 - val_loss: 0.0000e+00 - val_accuracy: 0.2729\n",
            "Epoch 41/50\n",
            "500/500 [==============================] - 2s 3ms/step - loss: 0.0000e+00 - accuracy: 0.2728 - val_loss: 0.0000e+00 - val_accuracy: 0.2729\n",
            "Epoch 42/50\n",
            "500/500 [==============================] - 2s 4ms/step - loss: 0.0000e+00 - accuracy: 0.2728 - val_loss: 0.0000e+00 - val_accuracy: 0.2729\n",
            "Epoch 43/50\n",
            "500/500 [==============================] - 2s 3ms/step - loss: 0.0000e+00 - accuracy: 0.2728 - val_loss: 0.0000e+00 - val_accuracy: 0.2729\n",
            "Epoch 44/50\n",
            "500/500 [==============================] - 2s 3ms/step - loss: 0.0000e+00 - accuracy: 0.2728 - val_loss: 0.0000e+00 - val_accuracy: 0.2729\n",
            "Epoch 45/50\n",
            "500/500 [==============================] - 1s 3ms/step - loss: 0.0000e+00 - accuracy: 0.2728 - val_loss: 0.0000e+00 - val_accuracy: 0.2729\n",
            "Epoch 46/50\n",
            "500/500 [==============================] - 2s 4ms/step - loss: 0.0000e+00 - accuracy: 0.2728 - val_loss: 0.0000e+00 - val_accuracy: 0.2729\n",
            "Epoch 47/50\n",
            "500/500 [==============================] - 2s 4ms/step - loss: 0.0000e+00 - accuracy: 0.2728 - val_loss: 0.0000e+00 - val_accuracy: 0.2729\n",
            "Epoch 48/50\n",
            "500/500 [==============================] - 2s 3ms/step - loss: 0.0000e+00 - accuracy: 0.2728 - val_loss: 0.0000e+00 - val_accuracy: 0.2729\n",
            "Epoch 49/50\n",
            "500/500 [==============================] - 1s 2ms/step - loss: 0.0000e+00 - accuracy: 0.2728 - val_loss: 0.0000e+00 - val_accuracy: 0.2729\n",
            "Epoch 50/50\n",
            "500/500 [==============================] - 1s 2ms/step - loss: 0.0000e+00 - accuracy: 0.2728 - val_loss: 0.0000e+00 - val_accuracy: 0.2729\n"
          ]
        }
      ]
    },
    {
      "cell_type": "code",
      "source": [
        "#now testing for Test data\n",
        "y_pred = model.predict(X_test)"
      ],
      "metadata": {
        "colab": {
          "base_uri": "https://localhost:8080/"
        },
        "id": "hvk2hk3_Vz38",
        "outputId": "7c4dc070-6165-4261-c946-d8f9020a5302"
      },
      "execution_count": null,
      "outputs": [
        {
          "output_type": "stream",
          "name": "stdout",
          "text": [
            "125/125 [==============================] - 0s 1ms/step\n"
          ]
        }
      ]
    },
    {
      "cell_type": "code",
      "source": [
        "print(y_pred)"
      ],
      "metadata": {
        "colab": {
          "base_uri": "https://localhost:8080/"
        },
        "id": "7O4qBkT8V19E",
        "outputId": "3960b4d6-f594-4473-856f-7ce14267a2b3"
      },
      "execution_count": null,
      "outputs": [
        {
          "output_type": "stream",
          "name": "stdout",
          "text": [
            "[[1.]\n",
            " [1.]\n",
            " [1.]\n",
            " ...\n",
            " [1.]\n",
            " [1.]\n",
            " [1.]]\n"
          ]
        }
      ]
    },
    {
      "cell_type": "code",
      "source": [
        "#converting values\n",
        "y_pred = (y_pred>0.5)\n",
        "print(y_pred)"
      ],
      "metadata": {
        "colab": {
          "base_uri": "https://localhost:8080/"
        },
        "id": "SmV4Iw7oV3Ll",
        "outputId": "50805979-9f7d-418b-a713-434095fba0b0"
      },
      "execution_count": null,
      "outputs": [
        {
          "output_type": "stream",
          "name": "stdout",
          "text": [
            "[[ True]\n",
            " [ True]\n",
            " [ True]\n",
            " ...\n",
            " [ True]\n",
            " [ True]\n",
            " [ True]]\n"
          ]
        }
      ]
    }
  ]
}